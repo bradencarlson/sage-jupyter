{
 "cells": [
  {
   "cell_type": "markdown",
   "metadata": {},
   "source": [
    "# Groups"
   ]
  },
  {
   "cell_type": "markdown",
   "metadata": {},
   "source": [
    "Here we dive into groups in SageMath.  There are many different types of groups that we can use in SageMath, including:\n",
    "\n",
    "* Symmetric Groups  \n",
    "* Dihedral Groups  \n",
    "* Alternating Groups\n",
    "* The Klein Four Group  \n",
    "* The Quaternion Group  \n",
    "* And many others\n",
    "\n",
    "More information about what named groups are available can be found in your local sage distribution, for example, on my computer, opening the file\n",
    "\n",
    "> /usr/lib/python3/dist-packages/sage/groups/perm-gps/pergroup_named.py\n",
    "\n",
    "provides much information about other types of groups that can use defined.  Most of these we will not use in this series of documents, but they are there for you to use if would like.  \n",
    "\n",
    "We begin with the Dihedral Group.  Considering the symmetries of a triangle, we can define the Dihedral Group of order 3 by writting the following:"
   ]
  },
  {
   "cell_type": "code",
   "execution_count": null,
   "metadata": {},
   "outputs": [],
   "source": [
    "T = DihedralGroup(3)\n",
    "T"
   ]
  },
  {
   "cell_type": "markdown",
   "metadata": {},
   "source": [
    "To see all of the elements in this group, we can use the `list` command."
   ]
  },
  {
   "cell_type": "code",
   "execution_count": null,
   "metadata": {},
   "outputs": [],
   "source": [
    "T.list()"
   ]
  },
  {
   "cell_type": "markdown",
   "metadata": {},
   "source": [
    "In the above list, we see the six elements listed of the Dihedral Group of order six.  SageMath uses a notation that we may not have seen before if we are still being introduced to Groups in Abstract Algebra.  It is refered to as cycle notation, and if you are in an Undergraduate Abstract Algebra class, you will probably be introduced to cycle notation soon.  A cycle $ (1,3,2) $ in sage denotes a permutation that sends $1\\rightarrow 3$, $3\\rightarrow 2$ and $2\\rightarrow 1$, they are used extensively in Group theory with permutations.  So in the Dihedral group above, we see the two rotations of a triangle, and the three reflections, as well as the identity $()$. \n",
    "\n",
    "We can specify elements of this group by writing the following:"
   ]
  },
  {
   "cell_type": "code",
   "execution_count": null,
   "metadata": {},
   "outputs": [],
   "source": [
    "sigma = T('(1,3,2)')\n",
    "tau = T('(2,3)')"
   ]
  },
  {
   "cell_type": "markdown",
   "metadata": {},
   "source": [
    "Now that we have some elements from this group, we can perform operations with them, like the following."
   ]
  },
  {
   "cell_type": "code",
   "execution_count": null,
   "metadata": {},
   "outputs": [],
   "source": [
    "print(sigma*tau)\n",
    "print(tau*sigma)\n",
    "print(sigma^3)\n",
    "print(tau^(-1))"
   ]
  },
  {
   "cell_type": "markdown",
   "metadata": {},
   "source": [
    "Note that in SageMath, permutation multiplication is done from LEFT to RIGHT.  \n",
    "\n",
    "Some other groups, we can define look like this:"
   ]
  },
  {
   "cell_type": "code",
   "execution_count": null,
   "metadata": {},
   "outputs": [],
   "source": [
    "S5 = SymmetricGroup(5)\n",
    "print(f\"The order of S5 is {S5.order()}\")\n",
    "print(f\"Is S5 abelian? {S5.is_abelian()}\")"
   ]
  },
  {
   "cell_type": "markdown",
   "metadata": {},
   "source": [
    "Another great function with groups in SageMath is the `cayley_table()` function.  This is used as follows:"
   ]
  },
  {
   "cell_type": "code",
   "execution_count": null,
   "metadata": {},
   "outputs": [],
   "source": [
    "T.cayley_table()"
   ]
  },
  {
   "cell_type": "markdown",
   "metadata": {},
   "source": [
    "Note that this will be quite large for most groups, usually it will be much too large to be usefull, for example:"
   ]
  },
  {
   "cell_type": "code",
   "execution_count": null,
   "metadata": {},
   "outputs": [],
   "source": [
    "S5.cayley_table()"
   ]
  },
  {
   "cell_type": "markdown",
   "metadata": {},
   "source": [
    "Another great use of SageMath for groups is the `cayley_graph()` function.  It provides a similar operation as the function `cayley_table()` but provides a graphic to visualize the structure of the group."
   ]
  },
  {
   "cell_type": "code",
   "execution_count": null,
   "metadata": {},
   "outputs": [],
   "source": [
    "T.cayley_graph()"
   ]
  },
  {
   "cell_type": "markdown",
   "metadata": {},
   "source": [
    "The other types of groups are declared by using the following syntax:\n",
    "\n",
    "* A = AlternatingGroup(n)  \n",
    "* Q = QuaternionGroup()  \n",
    "* K = KleinFourGroup()  "
   ]
  }
 ],
 "metadata": {
  "kernelspec": {
   "display_name": "SageMath 9.0",
   "language": "sage",
   "name": "sagemath"
  },
  "language_info": {
   "codemirror_mode": {
    "name": "ipython",
    "version": 3
   },
   "file_extension": ".py",
   "mimetype": "text/x-python",
   "name": "python",
   "nbconvert_exporter": "python",
   "pygments_lexer": "ipython3",
   "version": "3.8.10"
  }
 },
 "nbformat": 4,
 "nbformat_minor": 4
}
