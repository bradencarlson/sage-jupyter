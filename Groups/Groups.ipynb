{
 "cells": [
  {
   "cell_type": "markdown",
   "metadata": {},
   "source": [
    "# Groups"
   ]
  },
  {
   "cell_type": "markdown",
   "metadata": {},
   "source": [
    "Here we dive into groups in SageMath.  There are many different types of groups that we can use in SageMath, including:\n",
    "\n",
    "* Symmetric Groups  \n",
    "* Dihedral Groups  \n",
    "* Alternating Groups\n",
    "* The Klein Four Group  \n",
    "* The Quaternion Group  \n",
    "* And many others\n",
    "\n",
    "More information about what named groups are available can be found in your local sage distribution, for example, on my computer, opening the file\n",
    "\n",
    "> /usr/lib/python3/dist-packages/sage/groups/perm-gps/pergroup_named.py\n",
    "\n",
    "provides much information about other types of groups that can use defined.  Most of these we will not use in this series of documents, but they are there for you to use if you would like.  \n",
    "\n",
    "We begin with the Dihedral Group.  Considering the symmetries of a triangle, we can define the Dihedral Group of order 6 by writting the following:"
   ]
  },
  {
   "cell_type": "code",
   "execution_count": null,
   "metadata": {},
   "outputs": [],
   "source": [
    "T = DihedralGroup(3)\n",
    "T"
   ]
  },
  {
   "cell_type": "markdown",
   "metadata": {},
   "source": [
    "To see all of the elements in this group, we can use the `list` command."
   ]
  },
  {
   "cell_type": "code",
   "execution_count": null,
   "metadata": {},
   "outputs": [],
   "source": [
    "T.list()"
   ]
  },
  {
   "cell_type": "markdown",
   "metadata": {},
   "source": [
    "In the above list, we see the six elements listed of the Dihedral Group of order six.  SageMath uses a notation that we may not have seen before if we are still being introduced to Groups in Abstract Algebra.  It is refered to as cycle notation, and if you are in an Undergraduate Abstract Algebra class, you will probably be introduced to cycle notation soon.  A cycle $ (1,3,2) $ in sage denotes a permutation that sends $1\\mapsto 3$, $3\\mapsto 2$ and $2\\mapsto 1$, they are used extensively in Group theory with permutations.  In any cycle, any number that is left \n",
    "out of the list is not acted upon by that permutation, for example, the cycle $(1,3)$ above sends $1\\mapsto 3$,\n",
    "$3\\mapsto 1$, and $2\\mapsto 2$.  So, in the Dihedral group above, we see the two rotations of a triangle, and the three reflections, as well as the identity $()$. \n",
    "\n",
    "We can specify specific elements of this group by writing the following:"
   ]
  },
  {
   "cell_type": "code",
   "execution_count": null,
   "metadata": {},
   "outputs": [],
   "source": [
    "sigma = T('(1,3,2)')\n",
    "tau = T('(2,3)')"
   ]
  },
  {
   "cell_type": "markdown",
   "metadata": {},
   "source": [
    "Now that we have some elements from this group, we can perform operations with them, like the following."
   ]
  },
  {
   "cell_type": "code",
   "execution_count": null,
   "metadata": {},
   "outputs": [],
   "source": [
    "print(sigma*tau)\n",
    "print(tau*sigma)\n",
    "print(sigma^3)\n",
    "print(tau^(-1))"
   ]
  },
  {
   "cell_type": "markdown",
   "metadata": {},
   "source": [
    "**Note that in SageMath, composition of permutations is done from LEFT to RIGHT.**  \n",
    "\n",
    "Let us explore some other functions we can use on groups."
   ]
  },
  {
   "cell_type": "code",
   "execution_count": null,
   "metadata": {},
   "outputs": [],
   "source": [
    "S5 = SymmetricGroup(5)\n",
    "print(f\"The order of S5 is {S5.order()}\")\n",
    "print(f\"Is S5 abelian? {S5.is_abelian()}\")"
   ]
  },
  {
   "cell_type": "markdown",
   "metadata": {},
   "source": [
    "Another great function with groups in SageMath is the `cayley_table()` function.  This is used as follows:"
   ]
  },
  {
   "cell_type": "code",
   "execution_count": null,
   "metadata": {},
   "outputs": [],
   "source": [
    "T.cayley_table()"
   ]
  },
  {
   "cell_type": "markdown",
   "metadata": {},
   "source": [
    "Note that this will be quite large for most groups, usually it will be much too large to be useful, for example:"
   ]
  },
  {
   "cell_type": "code",
   "execution_count": null,
   "metadata": {},
   "outputs": [],
   "source": [
    "S5.cayley_table()"
   ]
  },
  {
   "cell_type": "markdown",
   "metadata": {},
   "source": [
    "Another great use of SageMath for groups is the `cayley_graph()` function.  It provides a similar operation as the function `cayley_table()` but provides a graphic to visualize the structure of the group."
   ]
  },
  {
   "cell_type": "code",
   "execution_count": null,
   "metadata": {},
   "outputs": [],
   "source": [
    "T.cayley_graph()"
   ]
  },
  {
   "cell_type": "markdown",
   "metadata": {},
   "source": [
    "The other types of groups are declared by using the following syntax:\n",
    "\n",
    "* A = AlternatingGroup(n)  \n",
    "* Q = QuaternionGroup()  \n",
    "* K = KleinFourGroup()  "
   ]
  },
  {
   "cell_type": "markdown",
   "metadata": {},
   "source": [
    "# An Example\n",
    "\n",
    "Let's look at a few examples and explore some common groups! Run the following cell."
   ]
  },
  {
   "cell_type": "code",
   "execution_count": null,
   "metadata": {},
   "outputs": [],
   "source": [
    "G = SymmetricGroup(4)\n",
    "print(f\"The order of G is {G.order()}\\n\")\n",
    "\n",
    "tau = G('(1,3,2)');\n",
    "sigma = G('(2,3)');\n",
    "\n",
    "# let's take a look at powers of these two elements. \n",
    "x = [tau^i for i in range(0,50)];\n",
    "y = [sigma^i for i in range(0,50)];\n",
    "print(\"Values of tau^i: \\n\",x,\"\\n\");\n",
    "print(\"Values of sigma^i: \\n\",y,\"\\n\");\n"
   ]
  },
  {
   "cell_type": "markdown",
   "metadata": {},
   "source": [
    "Ok, maybe we didn't need to go all the way up to a power of 49 (remember 50 is not included in range(0,50)).  But notice that there is a pattern in both of these.  For the powers of Tau, every third power is the identity permutation, this is probably not a supprise, since the tau has length 3 in cycle notation. Let's try this with a larger permutation to see what happens. "
   ]
  },
  {
   "cell_type": "code",
   "execution_count": null,
   "metadata": {},
   "outputs": [],
   "source": [
    "G = SymmetricGroup(24)\n",
    "tau = G('(1,4,3,2,5,6,11,9,8,10)')\n",
    "x = [tau^i for i in range(0,11)]\n",
    "print(\"Powers of x: \\n\",x)"
   ]
  },
  {
   "cell_type": "markdown",
   "metadata": {},
   "source": [
    "Another interesting result, a cycle of lenth 10 takes 10 powers before it finally gets back to being the identity permutation. Also notice that $10\\mid 24!$, which is the order of the Symmetric Group on 24 numbers. This is no coincidence, as we will see later, but not supprising, as every number from 1 to 24 divides $24!$.  Let's look at another example, and also introduce the order of an element, in group theory, the order of an element $g$ is the least natural number $n$ such that $g^n=1$, the identity element of the group. In the last cell, we saw that the order of a specific element divided the order of the group, let's explore this further in the next cell."
   ]
  },
  {
   "cell_type": "code",
   "execution_count": null,
   "metadata": {},
   "outputs": [],
   "source": [
    "G = DihedralGroup(8)\n",
    "for element in G.list():\n",
    "    # does the order of element divide the \n",
    "    # order of the group? if not, then print \n",
    "    # the element.\n",
    "    if 24 % element.order()!=0:\n",
    "        print(element, \" has an order that does not \\ndivide the order of the group.\\n\")"
   ]
  },
  {
   "cell_type": "markdown",
   "metadata": {},
   "source": [
    "It may look like the cell above did not do anything, but it actually did alot! (If you are not conviced, you can add an `else` statement inside the `for` loop to print out a message or the order of the element) This cell takes every element of the group $D_8$ and checks to see if it's order divides the order of the group or not; if not, then it prints out a message saying so.  As we saw no messages printed out, we must conclude that the order of every element of $D_8$ divides the order of the group.  This is a special case of Lagrange's Theorem. Which we will study later when we talk more about subgroups."
   ]
  }
 ],
 "metadata": {
  "kernelspec": {
   "display_name": "SageMath 9.8",
   "language": "sage",
   "name": "sagemath"
  },
  "language_info": {
   "codemirror_mode": {
    "name": "ipython",
    "version": 3
   },
   "file_extension": ".py",
   "mimetype": "text/x-python",
   "name": "python",
   "nbconvert_exporter": "python",
   "pygments_lexer": "ipython3",
   "version": "3.10.10"
  }
 },
 "nbformat": 4,
 "nbformat_minor": 4
}
