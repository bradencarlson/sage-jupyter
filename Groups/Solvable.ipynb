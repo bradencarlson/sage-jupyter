{
 "cells": [
  {
   "cell_type": "markdown",
   "metadata": {},
   "source": [
    "# Solvable Groups\n",
    "\n",
    "We will talk a little about Solvable groups.  First we will review composition series of a group, and will then \n",
    "continue on to solvable groups.  Recall that a subnormal series is a collection of subgroups of $G$ such that \n",
    "$$ G=H_n\\supsetneq H_{n-1}\\supsetneq \\cdots \\supsetneq H_1\\supsetneq H_0=1 $$\n",
    "where $H_i\\triangleleft H_{i+1}$.  A maximal subnormal series is called a composition series.  An example of a \n",
    "composition series is as follows. "
   ]
  },
  {
   "cell_type": "code",
   "execution_count": null,
   "metadata": {},
   "outputs": [],
   "source": [
    "G = SymmetricGroup(4)\n",
    "G.composition_series()"
   ]
  },
  {
   "cell_type": "code",
   "execution_count": null,
   "metadata": {},
   "outputs": [],
   "source": [
    "G = SymmetricGroup(12)\n",
    "G.composition_series()"
   ]
  },
  {
   "cell_type": "markdown",
   "metadata": {},
   "source": [
    "Recall that a group is called solvable if its composition factors consist of cyclic groups.  Of course, SageMath \n",
    "provides an easy way to test is a group is solvable or not.  "
   ]
  },
  {
   "cell_type": "code",
   "execution_count": null,
   "metadata": {},
   "outputs": [],
   "source": [
    "G = SymmetricGroup(12)\n",
    "print(G.is_solvable())\n",
    "H = DihedralGroup(4)\n",
    "print(H.is_solvable())"
   ]
  },
  {
   "cell_type": "markdown",
   "metadata": {},
   "source": [
    "## Solvability By Radicals\n",
    "\n",
    "Recall that a polynomial is solvable by radicals if and only if it's Galois Group is solvable.  For example, if \n",
    "we take the polynomial \n",
    "$$ x^5+10x+2 $$\n",
    "Then we can compute the extension field of this polynomial as follows:"
   ]
  },
  {
   "cell_type": "code",
   "execution_count": null,
   "metadata": {},
   "outputs": [],
   "source": [
    "F.<a> = QQ.extension(x^5+10*x+2)"
   ]
  },
  {
   "cell_type": "markdown",
   "metadata": {},
   "source": [
    "We can then compute it's Galois group:"
   ]
  },
  {
   "cell_type": "code",
   "execution_count": null,
   "metadata": {},
   "outputs": [],
   "source": [
    "G = F.galois_group(\"pari\")"
   ]
  },
  {
   "cell_type": "markdown",
   "metadata": {},
   "source": [
    "A look into the order of this group provides some insight."
   ]
  },
  {
   "cell_type": "code",
   "execution_count": null,
   "metadata": {},
   "outputs": [],
   "source": [
    "print(G.order())"
   ]
  },
  {
   "cell_type": "markdown",
   "metadata": {},
   "source": [
    "Since the Galois Group of this polynomial is a subgroup of $S_5$ which has order 120, we see that it must equal \n",
    "$S_5$, and since $S_5$ is not a solvable group, this quintic polynomial is unsolvable by radicals. "
   ]
  }
 ],
 "metadata": {
  "kernelspec": {
   "display_name": "SageMath 9.0",
   "language": "sage",
   "name": "sagemath"
  },
  "language_info": {
   "codemirror_mode": {
    "name": "ipython",
    "version": 3
   },
   "file_extension": ".py",
   "mimetype": "text/x-python",
   "name": "python",
   "nbconvert_exporter": "python",
   "pygments_lexer": "ipython3",
   "version": "3.8.10"
  }
 },
 "nbformat": 4,
 "nbformat_minor": 4
}
