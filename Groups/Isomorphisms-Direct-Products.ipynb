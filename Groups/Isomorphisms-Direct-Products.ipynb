{
 "cells": [
  {
   "cell_type": "markdown",
   "metadata": {},
   "source": [
    "# Isomorphisms and Direct Products"
   ]
  },
  {
   "cell_type": "markdown",
   "metadata": {},
   "source": [
    "## Isomorphisms"
   ]
  },
  {
   "cell_type": "markdown",
   "metadata": {},
   "source": [
    "Here we explore Isomorphisms in SageMath.  Here we define a group $G$, then we compare it to a few other groups to see if it is isomorphic to that group."
   ]
  },
  {
   "cell_type": "code",
   "execution_count": null,
   "metadata": {},
   "outputs": [],
   "source": [
    "G = PermutationGroup(['(1,2)(3,4)','(2,3)(1,4)'])\n",
    "A4 = AlternatingGroup(4)\n",
    "K = KleinFourGroup()\n",
    "S6 = SymmetricGroup(6)\n",
    "H = CyclicPermutationGroup(4)\n",
    "\n",
    "print(f\"is G isomorphic to A4: {G.is_isomorphic(A4)}\")\n",
    "print(f\"is G isomorphic to the Klein Four Group: {G.is_isomorphic(K)}\")\n",
    "print(f\"is G isomorphic to S6: {G.is_isomorphic(S6)}\")\n",
    "print(f\"is G isomorphic to H: {G.is_isomorphic(H)}\")"
   ]
  },
  {
   "cell_type": "markdown",
   "metadata": {},
   "source": [
    "An excellent exercise for any student being introduced to groups is to create a permutation group that is isomorphic to the group of rigid motions of a cube.  This can done in the following ways:\n",
    "\n",
    "* Note that there are four diagonals, and thus each rigid motion of the cube is some permutation of the diagonals\n",
    "* There are eight corners.  Each rigid motion of the cube is some permutation of the corners of the cube\n",
    "\n",
    "See if you can come up with this group, when you think you have it, create the group as a permutation group \n",
    "in SageMath and run the code\n",
    "\n",
    "> G = PermutationGroup(list your generators here)  \n",
    "> S4 = SymmetricGroup(4)  \n",
    "> G.is_isomorphic(S4)\n",
    "\n",
    "If you have correctly set up your group, the result will be true."
   ]
  },
  {
   "cell_type": "markdown",
   "metadata": {},
   "source": [
    "## Direct Products"
   ]
  },
  {
   "cell_type": "markdown",
   "metadata": {},
   "source": [
    "SageMath also has functions that can evaluate direct products as well.  The function \n",
    "\n",
    "> direct_product_permgroups([G,H])\n",
    "\n",
    "returns the internal direct product of groups `G` and `H` as a permutation group.  We demonstrate this as follows."
   ]
  },
  {
   "cell_type": "code",
   "execution_count": null,
   "metadata": {},
   "outputs": [],
   "source": [
    "edp = direct_product_permgroups([A4,H])\n",
    "edp"
   ]
  },
  {
   "cell_type": "code",
   "execution_count": null,
   "metadata": {},
   "outputs": [],
   "source": [
    "edp.list()"
   ]
  },
  {
   "cell_type": "markdown",
   "metadata": {},
   "source": [
    "Below we see the example that $\\mathbb{Z}_2\\times \\mathbb{Z}_2$ is isomorphic to the Klein Four Group."
   ]
  },
  {
   "cell_type": "code",
   "execution_count": null,
   "metadata": {},
   "outputs": [],
   "source": [
    "Z1 = CyclicPermutationGroup(2)\n",
    "Z2 = CyclicPermutationGroup(2)\n",
    "\n",
    "G = direct_product_permgroups([Z1,Z2])\n",
    "\n",
    "print(G.list())\n",
    "print(G.is_isomorphic(K))"
   ]
  },
  {
   "cell_type": "markdown",
   "metadata": {},
   "source": [
    "We mentioned before that SageMath implements any finite Abelian group as a direct product of the form \n",
    "$$ \\mathbb{Z}_{n_1}\\times\\cdots\\times \\mathbb{Z}_{n_m},$$\n",
    "for some $m\\in \\mathbb{N}$, and we mentioned that this is done because every finite Abelian group is isomorphic to a group of this form. We now have more understanding of what this means, and the ability to explore them in SageMath."
   ]
  }
 ],
 "metadata": {
  "kernelspec": {
   "display_name": "SageMath 9.7",
   "language": "sage",
   "name": "sagemath"
  },
  "language_info": {
   "codemirror_mode": {
    "name": "ipython",
    "version": 3
   },
   "file_extension": ".py",
   "mimetype": "text/x-python",
   "name": "python",
   "nbconvert_exporter": "python",
   "pygments_lexer": "ipython3",
   "version": "3.10.8"
  }
 },
 "nbformat": 4,
 "nbformat_minor": 4
}
