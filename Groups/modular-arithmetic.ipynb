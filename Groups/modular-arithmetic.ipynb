{
 "cells": [
  {
   "cell_type": "markdown",
   "metadata": {},
   "source": [
    "# The Group of Integers mod *n*"
   ]
  },
  {
   "cell_type": "markdown",
   "metadata": {},
   "source": [
    "In this file, we will talk breifly about using Sage to perform modular arithmetic, and then talk about the Integers mod *n* as a group.  \n",
    "\n",
    "The integers mod *n* are implemented as a class called `IntegerModRing` in SageMath.  Hinting at the fact that the integers mod *n* are in fact a ring, even though maybe at this point we may not be aware of that yet.  Below we define `R` to be the set of integers mod 12, then we define two elements `a` and `b` of that group and print out the result when they are added together.  \n",
    "\n",
    "As we will see in the future, this representation of a group does not offer us a much as we might wish for, such the ability to print out a Cayley Table, but the integers are simple enough that a computer is not needed to generate the Cayley table for this group.  "
   ]
  },
  {
   "cell_type": "code",
   "execution_count": null,
   "metadata": {},
   "outputs": [],
   "source": [
    "R = IntegerModRing(12)\n",
    "a = R(11)\n",
    "b = R(10)\n",
    "print(a+b)"
   ]
  },
  {
   "cell_type": "markdown",
   "metadata": {},
   "source": [
    "We can also perform multiplication on these numbers, since `R` is in fact a ring not just a group."
   ]
  },
  {
   "cell_type": "code",
   "execution_count": null,
   "metadata": {},
   "outputs": [],
   "source": [
    "print(a*b)"
   ]
  },
  {
   "cell_type": "markdown",
   "metadata": {},
   "source": [
    "One thing that is peculiar is that the product of two nonzero elements of this ring may be zero, as follows."
   ]
  },
  {
   "cell_type": "code",
   "execution_count": null,
   "metadata": {},
   "outputs": [],
   "source": [
    "a = R(3)\n",
    "b = R(4)\n",
    "\n",
    "print(a*b)"
   ]
  },
  {
   "cell_type": "markdown",
   "metadata": {},
   "source": [
    "You will notice that the following code does not do any modular arithmetic, but rather a regular computation on the integers, this is because up untill now we have been declaring $a$ and $b$ as elements of the ring `R`, as so\n",
    "\n",
    "> a = R(3)\n",
    "\n",
    "When we specify that $a$ needs to belongs to the ring `R`, then SageMath knows to apply the correct binary operations on that element."
   ]
  },
  {
   "cell_type": "code",
   "execution_count": null,
   "metadata": {},
   "outputs": [],
   "source": [
    "# the way we don't want to do this\n",
    "a = 5\n",
    "b = 7\n",
    "print(a+b)\n",
    "\n",
    "# the way we do want to do this\n",
    "a = R(5)\n",
    "b = R(7)\n",
    "print(a+b)"
   ]
  },
  {
   "cell_type": "markdown",
   "metadata": {},
   "source": [
    "## Other Modular Arithmetic"
   ]
  },
  {
   "cell_type": "markdown",
   "metadata": {},
   "source": [
    "Some things that we may not see in group theory as much but can be helpful in SageMath are the modular operations available to us such as:\n",
    "\n",
    "> inverse_mod(a,n)  \n",
    "> power_mod(a,b,n)\n",
    "\n",
    "The first computes the inverse of an element mod *n*, while the second computes $a^b \\:\\text{mod }n$, for example:"
   ]
  },
  {
   "cell_type": "code",
   "execution_count": null,
   "metadata": {},
   "outputs": [],
   "source": [
    "print(inverse_mod(5,12))\n",
    "print(power_mod(5,1023,45))"
   ]
  },
  {
   "cell_type": "markdown",
   "metadata": {},
   "source": [
    "For more information about modular arithmetic, visit [Group Theory and Sage](https://doc.sagemath.org/html/en/thematic_tutorials/group_theory.html#group-theory)."
   ]
  },
  {
   "cell_type": "markdown",
   "metadata": {},
   "source": [
    "# Modular Arithmetic in Python \n",
    "\n",
    "A side note about modular arithmetic in Python and other programming languages outside of SageMath, when dealing with integers, we can perform modular arithmetic with the `%` operator, like so."
   ]
  },
  {
   "cell_type": "code",
   "execution_count": null,
   "metadata": {},
   "outputs": [],
   "source": [
    "print(1243 % 17)"
   ]
  },
  {
   "cell_type": "markdown",
   "metadata": {},
   "source": [
    "This computes the remainder of 1243 when divided by 17, or equivalently, 1243 $\\text{mod } 17$, We will use this on occasion in this series.  But when performing operations on groups, we will instead use the Ring of Integers from SageMath."
   ]
  }
 ],
 "metadata": {
  "kernelspec": {
   "display_name": "SageMath 9.0",
   "language": "sage",
   "name": "sagemath"
  },
  "language_info": {
   "codemirror_mode": {
    "name": "ipython",
    "version": 3
   },
   "file_extension": ".py",
   "mimetype": "text/x-python",
   "name": "python",
   "nbconvert_exporter": "python",
   "pygments_lexer": "ipython3",
   "version": "3.8.10"
  }
 },
 "nbformat": 4,
 "nbformat_minor": 4
}
