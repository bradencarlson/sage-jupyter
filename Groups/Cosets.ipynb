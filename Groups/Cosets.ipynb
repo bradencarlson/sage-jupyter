{
 "cells": [
  {
   "cell_type": "markdown",
   "metadata": {},
   "source": [
    "# Cosets "
   ]
  },
  {
   "cell_type": "markdown",
   "metadata": {},
   "source": [
    "This document will be all about exploring cosets in SageMath.  We have previously looked at how to define groups, and how to define elements of those groups as well as performing operations on those elements.  Now we will look at how to perform operations on subgroups of a group, that is calculating the coset of a group.  Recall that for a subgroup $H$ of a group $G$, the left coset of $H$ with respresentative $g\\in G$ is defined to be $$ gH=\\{gh:h\\in H\\}.$$ Similarly for right cosets.  Here we define two functions that, when passed a subgroup, and an element of the parent group, will calculate the left coset, or the right coset, respectively.  "
   ]
  },
  {
   "cell_type": "code",
   "execution_count": null,
   "metadata": {},
   "outputs": [],
   "source": [
    "def left_coset(H, g):\n",
    "    H_elements = H.list()\n",
    "    coset = set(())\n",
    "    for element in H.list():\n",
    "        coset.add(element*g)\n",
    "        \n",
    "    return sorted(coset)\n",
    "\n",
    "def right_coset(H, g):\n",
    "    H_elements  = H.list()\n",
    "    coset = set(())\n",
    "    for element in H_elements:\n",
    "        coset.add(g*element)\n",
    "        \n",
    "    return sorted(coset)\n",
    " "
   ]
  },
  {
   "cell_type": "markdown",
   "metadata": {},
   "source": [
    "Here we go through our first example of computing a coset.  Once again, the Integers mod $n$ are implemented in SageMath as a ring, so we will not go through computing a coset with integer groups here, but rather, we begin with the Symmetric Group $S_4$, we take the subgroup $H=\\left<(12),(34)\\right>$, then we compute the coset of $H$ with representative $(23)$.   "
   ]
  },
  {
   "cell_type": "code",
   "execution_count": null,
   "metadata": {},
   "outputs": [],
   "source": [
    "# define the symmetric group of order 24\n",
    "S4 = SymmetricGroup(4)\n",
    "\n",
    "# define the subgroup H\n",
    "H = S4.subgroup(['(3,4)','(1,2)'])\n",
    "\n",
    "# print out the original subgroup\n",
    "print(H.list())\n",
    "\n",
    "# select an element from S4\n",
    "sigma = S4('(2,3)')\n",
    "\n",
    "# calculate the left coset of H with representative sigma\n",
    "coset = left_coset(H,sigma)\n",
    "\n",
    "# print out the coset\n",
    "print(coset)"
   ]
  },
  {
   "cell_type": "markdown",
   "metadata": {},
   "source": [
    "As we have seen in the course, often left and right cosets are not the same.  But another event that occurs frequently, is that two left or two right cosets with different representatives are the same.  The following function gives all the cosets, as well as all the elements of the group that generate that coset, given a subgroup $H$."
   ]
  },
  {
   "cell_type": "code",
   "execution_count": null,
   "metadata": {},
   "outputs": [],
   "source": [
    "def coset_generators(H, G):\n",
    "    cosets  = {}\n",
    "    for element in G.list():\n",
    "        \n",
    "        left_coset = set(())\n",
    "        right_coset = set(())\n",
    "        for item in H.list():\n",
    "            right_coset.add(element*item)\n",
    "            left_coset.add(item*element)\n",
    "               \n",
    "        right_coset = sorted(right_coset)\n",
    "        left_coset = sorted(left_coset)\n",
    "        \n",
    "        \n",
    "        if str(left_coset) not in cosets.keys() and str(right_coset) not in cosets.keys():\n",
    "            cosets[str(left_coset)] = [str(element)+\"H\"]\n",
    "            cosets[str(right_coset)] = [\"H\"+str(element)]\n",
    "        if str(right_coset) in cosets.keys() and str(\"H\"+str(element)) not in cosets[str(right_coset)]:\n",
    "            cosets[str(right_coset)].append(\"H\"+str(element))\n",
    "            pass\n",
    "        if str(left_coset) in cosets.keys() and str(str(element)+\"H\") not in cosets[str(left_coset)]:\n",
    "            cosets[str(left_coset)].append(str(element)+\"H\")\n",
    "    return cosets"
   ]
  },
  {
   "cell_type": "markdown",
   "metadata": {},
   "source": [
    "Here we calculate all the cosets of $H$ in $S_4$, as well as which elements generate those cosets.  This information is stored in the variable `gens`.  Then we calculate the left coset of $H$ with representative $(23)$, and use the information in `gens` to determine what other elements in $S_4$ generate this coset.  "
   ]
  },
  {
   "cell_type": "code",
   "execution_count": null,
   "metadata": {},
   "outputs": [],
   "source": [
    "gens = coset_generators(H,S4)\n",
    "print(sigma)\n",
    "print(H.list())\n",
    "print(left_coset(H,sigma))\n",
    "print(gens[str(left_coset(H,sigma))])"
   ]
  },
  {
   "cell_type": "markdown",
   "metadata": {},
   "source": [
    "Below, we see the complete information stored in `gens`.  A new programming concept that we are using in this document is the dictionary.  Dictionaries are an object that can not only store values, but keys to reference those values with.  The classical example used is a phisical dictionary, dictionaries are sorted by words, and each word has a definition attached to it.  In a dictionary in python, we define $(\\text{key}, \\text{value})$ pairs, so that we can access the `value` by calling the `key`.  In the function `coset_generators()` function above, the coset generated is the key, and the value attached to each coset is a list of elements that generate that coset.  Thus in the code above, when we call\n",
    "\n",
    "> gens[str(sorted(left_coset(H,sigma))]\n",
    "\n",
    "This returns the list of generators that is attached to the left coset of $H$ with representative $\\sigma$."
   ]
  },
  {
   "cell_type": "code",
   "execution_count": null,
   "metadata": {},
   "outputs": [],
   "source": [
    "for k in gens.keys():\n",
    "    print(f\"{k}\")\n",
    "    for v in gens[k]:\n",
    "        print(f\"\\t{v}\")"
   ]
  },
  {
   "cell_type": "markdown",
   "metadata": {},
   "source": [
    "In the output above, we can see that the left coset and right coset of $H$ with representative $(1324)$ are equal.  Below, we use the original `left_coset` and `right_coset` functions to test to see if this is true."
   ]
  },
  {
   "cell_type": "code",
   "execution_count": null,
   "metadata": {},
   "outputs": [],
   "source": [
    "sorted(left_coset(H,S4('(1,3,2,4)')))==sorted(right_coset(H,S4('(1,3,2,4)')))"
   ]
  },
  {
   "cell_type": "markdown",
   "metadata": {},
   "source": [
    "Here we make note that SageMath does have a function built in to compute cosets of a given subgroup, although it does not provide us with the additional information of which elements of the group generate that coset.  It is used as follows:"
   ]
  },
  {
   "cell_type": "code",
   "execution_count": null,
   "metadata": {},
   "outputs": [],
   "source": [
    "S4.cosets(H,side='left')"
   ]
  },
  {
   "cell_type": "code",
   "execution_count": null,
   "metadata": {},
   "outputs": [],
   "source": [
    "S4.cosets(H,side='right')"
   ]
  }
 ],
 "metadata": {
  "kernelspec": {
   "display_name": "SageMath 9.0",
   "language": "sage",
   "name": "sagemath"
  },
  "language_info": {
   "codemirror_mode": {
    "name": "ipython",
    "version": 3
   },
   "file_extension": ".py",
   "mimetype": "text/x-python",
   "name": "python",
   "nbconvert_exporter": "python",
   "pygments_lexer": "ipython3",
   "version": "3.8.10"
  }
 },
 "nbformat": 4,
 "nbformat_minor": 4
}
