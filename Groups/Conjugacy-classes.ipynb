{
 "cells": [
  {
   "cell_type": "markdown",
   "metadata": {},
   "source": [
    "# Conjugacy Classes"
   ]
  },
  {
   "cell_type": "markdown",
   "metadata": {},
   "source": [
    "Here we discuss conjugacy classes.  Given some element $g$ in a group $G$.  We can calculate the conjugate of $g$ with respect to some other element $x\\in G$, by calculating the following\n",
    "$$ ^gx = xgx^{-1}  $$\n",
    "The set of all conjugates of $g$ in $G$, is denoted by $^Gg$, and is called a conjugacy class.  We implement code in this file to calculate the conjugacy classes of a group."
   ]
  },
  {
   "cell_type": "code",
   "execution_count": null,
   "metadata": {},
   "outputs": [],
   "source": [
    "# define the conjugacy_class function.  This function will take in an element\n",
    "# as well as a group, then will calculate the conjugacy class of that element in the \n",
    "# group given.  See below for an example.\n",
    "def conjugacy_class(element , group):\n",
    "    # define a set to hold all the conjugates of the element\n",
    "    conjugates = set(())\n",
    "    # for each item in the group, calculate the conjugate and add\n",
    "    # it to the set defined in the line above.\n",
    "    for i in group.list():\n",
    "        conjugates.add((i^(-1))*element*i)\n",
    "    # return the final set of all conjugates of the element.\n",
    "    return conjugates"
   ]
  },
  {
   "cell_type": "markdown",
   "metadata": {},
   "source": [
    "Here we go through our first example.  We define the set $S_5$, and we define $\\sigma$ to be $(123)\\in S_5$.  We then use our newly defined function to calculate the conjugacy class of $\\sigma$ in $S_5$."
   ]
  },
  {
   "cell_type": "code",
   "execution_count": null,
   "metadata": {},
   "outputs": [],
   "source": [
    "# define the group S5\n",
    "S5 = SymmetricGroup(5)\n",
    "\n",
    "# define sigma to be (123) in S5\n",
    "sigma = S5(\"(1,2,3)\")\n",
    "\n",
    "# call the new function to calculate the conjugacy class\n",
    "con_class = conjugacy_class(sigma, S5)\n",
    "\n",
    "# print out the conjugacy class\n",
    "print(f\"The conjugacy class of {sigma} is: {con_class}\")"
   ]
  },
  {
   "cell_type": "markdown",
   "metadata": {},
   "source": [
    "Another usefull function that we will need in our toolbox is the function defined in the following cell.  This function takes in a group and returns all the conjugacy classes of that group.  We first define the function, then give an example."
   ]
  },
  {
   "cell_type": "code",
   "execution_count": null,
   "metadata": {},
   "outputs": [],
   "source": [
    "# defines a function that calculates all conjugacy classes of a group.\n",
    "def all_conjugacy_classes(group):\n",
    "    # define a list that will hold all the conjugacy classes of the group.\n",
    "    conjugacy_classes = []\n",
    "    # for each element in the group, \n",
    "    for i in group.list():\n",
    "        # define a new set that will be the conjugacy class of that element\n",
    "        conjugates = set(())\n",
    "        # for each element of the group, add j^{-1}*i*j (remember that Sage \n",
    "        # takes this from right to left) to the conjugacy class\n",
    "        for j in group.list():\n",
    "            conjugates.add((j^(-1))*i*j)\n",
    "        # if that conjugate class is not already in the list, add it.\n",
    "        if conjugates not in conjugacy_classes:\n",
    "            conjugacy_classes.append(conjugates)\n",
    "    \n",
    "    # return the final list of conjugacy classes.\n",
    "    return conjugacy_classes"
   ]
  },
  {
   "cell_type": "markdown",
   "metadata": {},
   "source": [
    "Here we have an example of how to use this function defined above.  We calculate all of the conjugacy classes of $S_4$."
   ]
  },
  {
   "cell_type": "code",
   "execution_count": null,
   "metadata": {},
   "outputs": [],
   "source": [
    "# define the group S4\n",
    "S4 = SymmetricGroup(4)\n",
    "\n",
    "# call the function to calculate all conjugacy classes, and store the\n",
    "# result in cc\n",
    "cc = all_conjugacy_classes(S4)\n",
    "\n",
    "# for each item in cc, print out the item.\n",
    "print(\"The conjugacy classes of S4 are:\")\n",
    "for k in cc:\n",
    "    print(f\"{k}\")"
   ]
  },
  {
   "cell_type": "markdown",
   "metadata": {},
   "source": [
    "Here we also define a function that not only will tell us what the conjugacy classes of a group are, but also which elements of the group those conjugacy classes come from.  This function takes in a group, and returns a dictionary, the keys of which will be the conjugacy classes, and the value of each key is a list of the elements in the group that generate that conjugacy class."
   ]
  },
  {
   "cell_type": "code",
   "execution_count": null,
   "metadata": {},
   "outputs": [],
   "source": [
    "# define the function that takes in a group.\n",
    "def conjugacy_class_gens(group):\n",
    "    # define the dictionary that will hold all the conjugacy classes,\n",
    "    # as well as which elements generate those classes.\n",
    "    conjugacy_classes = {}\n",
    "    # for each element in the group, \n",
    "    for i in group.list():\n",
    "        # create a new set, that will be the conjugacy class of that element.\n",
    "        conjugates = set(())\n",
    "        for j in group.list():\n",
    "            conjugates.add((j^(-1))*i*j)\n",
    "        # sort that conjugacy class\n",
    "        conjugates = sorted(conjugates)\n",
    "        # if the conjugacy class is already found among the keys of the \n",
    "        # dictionary defined above, add the element to it's list, if not,\n",
    "        # create a new entry with that conjugacy class.\n",
    "        if str(conjugates) not in conjugacy_classes.keys():\n",
    "            conjugacy_classes[str(conjugates)] = [i]\n",
    "        else:\n",
    "            conjugacy_classes[str(conjugates)].append(i)\n",
    "    # return the final dictionary with all conjugacy classes and generators.\n",
    "    return conjugacy_classes"
   ]
  },
  {
   "cell_type": "markdown",
   "metadata": {},
   "source": [
    "We demostrate this with the following example.  We calculate all of the conjugacy classes of the group $A_4$.  Then print out information about which elements generate each conjugacy class."
   ]
  },
  {
   "cell_type": "code",
   "execution_count": null,
   "metadata": {},
   "outputs": [],
   "source": [
    "# define the group A4\n",
    "A4 = AlternatingGroup(4)\n",
    "\n",
    "# create the dictionary of all conjugacy classes\n",
    "cc = conjugacy_class_gens(A4)\n",
    "\n",
    "# for each (key,value) pair in cc.items(), print out the elements that generate the conjugacy\n",
    "# class (v), then the conjugacy class (k).\n",
    "for k,v in cc.items():\n",
    "    print(f\"the elements {v} generate the conjugacy class:\\n{k}\\n\\n\")"
   ]
  }
 ],
 "metadata": {
  "kernelspec": {
   "display_name": "SageMath 9.0",
   "language": "sage",
   "name": "sagemath"
  },
  "language_info": {
   "codemirror_mode": {
    "name": "ipython",
    "version": 3
   },
   "file_extension": ".py",
   "mimetype": "text/x-python",
   "name": "python",
   "nbconvert_exporter": "python",
   "pygments_lexer": "ipython3",
   "version": "3.8.10"
  }
 },
 "nbformat": 4,
 "nbformat_minor": 4
}
