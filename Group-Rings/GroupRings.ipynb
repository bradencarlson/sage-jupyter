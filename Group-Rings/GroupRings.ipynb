{
 "cells": [
  {
   "cell_type": "markdown",
   "metadata": {},
   "source": [
    "# Group Rings\n",
    "\n",
    "Here we will be exploring Group Rings in SageMath.  As a reminder, to construct a Group Ring, we take a ring $R$, \n",
    "as well as a group $G$, and we construct the set \n",
    "$$ R(G)=\\left\\{\\sum_{g\\in G}r_gg\\mid r_g\\in R\\right\\}$$\n",
    "which is the set of all linear combinations of elements of $G$, with coefficients in the ring $R$.  This produces a new ring, denoted $R(G)$, and can be implemented in SageMath as follows:"
   ]
  },
  {
   "cell_type": "code",
   "execution_count": null,
   "metadata": {},
   "outputs": [],
   "source": [
    "# define a group \n",
    "G = SymmetricGroup(5)\n",
    "\n",
    "# as well as a ring\n",
    "R = IntegerModRing(12)\n",
    "\n",
    "RG = GroupAlgebra(G,R)\n",
    "\n",
    "RG"
   ]
  },
  {
   "cell_type": "markdown",
   "metadata": {},
   "source": [
    "Just like Groups, we can obtain random elements of these Group Rings with the `.random_element()` method.  And we \n",
    "can specify elements that we wish to work with by constructing each piece individually (this is very inconvenient, \n",
    "but I could not find much documentation about constructing elements of group rings, if there is an easier way, please submit an issue on [Github](https://github.com/bradencarlson/sage-jupyter)).  In the following cell, we \n",
    "define the element\n",
    "$$ 2(12345)+10(231) \\in \\mathbb{Z}_{12}(S_5)$$"
   ]
  },
  {
   "cell_type": "code",
   "execution_count": null,
   "metadata": {},
   "outputs": [],
   "source": [
    "alpha = R(2)*RG(G(\"(1,2,3,4,5)\"))+R(10)*RG(G(\"(2,3,1)\"))"
   ]
  },
  {
   "cell_type": "markdown",
   "metadata": {},
   "source": [
    "Note that when defining elements of a Group Ring, we can specify the coefficients as elements of the Ring, instead of elements of the Group.  Since elements of the group ring are present in the calculation, they are upgraded to be \n",
    "elements of the group ring by SageMath.  Although note that the following would be wrong:\n",
    "```\n",
    "alpha = R(2)*G(\"(1,2,3,4,5)\")+R(10)*G(\"(2,3,1)\")\n",
    "```\n",
    "Since the group elements are not inclosed in `RG(...)`, SageMath does not know that we mean this to be an element of \n",
    "the group ring, but instead throws a TypeError.  \n",
    "\n",
    "Note: In addition to the method of constructing group rings that we have already discussed, there is an additional \n",
    "method that is used as follows\n",
    "```\n",
    "RG = G.algebra(R)\n",
    "```\n",
    "where once again $G$ is a group and $R$ is a ring.  See the following:"
   ]
  },
  {
   "cell_type": "code",
   "execution_count": null,
   "metadata": {},
   "outputs": [],
   "source": [
    "RG = G.algebra(R)\n",
    "RG.an_element()"
   ]
  },
  {
   "cell_type": "markdown",
   "metadata": {},
   "source": [
    "In addition to the Ring structure of $R(G)$, there are two other operations on the group ring that are important, \n",
    "that is, $*$-involution and $\\land$-operation.  These are defined as follows: Given an element \n",
    "$$ a=\\sum_{g\\in G}\\alpha_gg,\\quad \\alpha_g\\in R $$\n",
    "Then we define $a^*$ to be the element of $R(G)$ defined by \n",
    "$$ a^*=\\sum_{g\\in G}\\alpha_gg^{-1} $$\n",
    "The $\\land$-operation is defined by taking a subset $C\\subseteq G$, and defining \n",
    "$$ \\hat{C}=\\sum_{g\\in C}g $$\n",
    "These operations are implemented by the following functions."
   ]
  },
  {
   "cell_type": "code",
   "execution_count": null,
   "metadata": {},
   "outputs": [],
   "source": [
    "def star(a, groupRing):\n",
    "    element = list(a)\n",
    "    newElement = RG(0)\n",
    "    for group,ring in element:\n",
    "        newElement = newElement + ring*groupRing(group.inverse())\n",
    "    return newElement\n",
    "\n",
    "\n"
   ]
  },
  {
   "cell_type": "code",
   "execution_count": null,
   "metadata": {},
   "outputs": [],
   "source": [
    "sigma = RG.an_element()\n",
    "\n",
    "print(sigma)\n",
    "print(star(sigma,RG))"
   ]
  }
 ],
 "metadata": {
  "kernelspec": {
   "display_name": "SageMath 9.0",
   "language": "sage",
   "name": "sagemath"
  },
  "language_info": {
   "codemirror_mode": {
    "name": "ipython",
    "version": 3
   },
   "file_extension": ".py",
   "mimetype": "text/x-python",
   "name": "python",
   "nbconvert_exporter": "python",
   "pygments_lexer": "ipython3",
   "version": "3.8.10"
  }
 },
 "nbformat": 4,
 "nbformat_minor": 4
}
