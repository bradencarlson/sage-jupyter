{
 "cells": [
  {
   "cell_type": "markdown",
   "metadata": {},
   "source": [
    "# Ceasar Cipher"
   ]
  },
  {
   "cell_type": "markdown",
   "metadata": {},
   "source": [
    "These cells define the digitize and alphabetize functions that will be used to encode messages so that we can do some math with the encoded message. Do not change these cells."
   ]
  },
  {
   "cell_type": "code",
   "execution_count": null,
   "metadata": {},
   "outputs": [],
   "source": [
    "def digitize(string):\n",
    "    cipher_text = []\n",
    "    for i in string:\n",
    "        if i == 'A' or i == 'a': cipher_text.append(0)\n",
    "        if i == 'B' or i == 'b': cipher_text.append(1)\n",
    "        if i == 'C' or i == 'c': cipher_text.append(2)\n",
    "        if i == 'D' or i == 'd': cipher_text.append(3)\n",
    "        if i == 'E' or i == 'e': cipher_text.append(4)\n",
    "        if i == 'F' or i == 'f': cipher_text.append(5)\n",
    "        if i == 'G' or i == 'g': cipher_text.append(6)\n",
    "        if i == 'H' or i == 'h': cipher_text.append(7)\n",
    "        if i == 'I' or i == 'i': cipher_text.append(8)\n",
    "        if i == 'J' or i == 'j': cipher_text.append(9)\n",
    "        if i == 'K' or i == 'k': cipher_text.append(10)\n",
    "        if i == 'L' or i == 'l': cipher_text.append(11)\n",
    "        if i == 'M' or i == 'm': cipher_text.append(12)\n",
    "        if i == 'N' or i == 'n': cipher_text.append(13)\n",
    "        if i == 'O' or i == 'o': cipher_text.append(14)\n",
    "        if i == 'P' or i == 'p': cipher_text.append(15)\n",
    "        if i == 'Q' or i == 'q': cipher_text.append(16)\n",
    "        if i == 'R' or i == 'r': cipher_text.append(17)\n",
    "        if i == 'S' or i == 's': cipher_text.append(18)\n",
    "        if i == 'T' or i == 't': cipher_text.append(19)\n",
    "        if i == 'U' or i == 'u': cipher_text.append(20)\n",
    "        if i == 'V' or i == 'v': cipher_text.append(21)\n",
    "        if i == 'W' or i == 'w': cipher_text.append(22)\n",
    "        if i == 'X' or i == 'x': cipher_text.append(23)\n",
    "        if i == 'Y' or i == 'y': cipher_text.append(24)\n",
    "        if i == 'Z' or i == 'z': cipher_text.append(25)\n",
    "    return cipher_text\n",
    "        "
   ]
  },
  {
   "cell_type": "code",
   "execution_count": null,
   "metadata": {},
   "outputs": [],
   "source": [
    "def alphabetize(digits):\n",
    "    plain_text = \"\"\n",
    "    for i in digits:\n",
    "        if i == 0: plain_text = plain_text + \"A\"\n",
    "        if i == 1: plain_text = plain_text + \"B\"\n",
    "        if i == 2: plain_text = plain_text + \"C\"\n",
    "        if i == 3: plain_text = plain_text + \"D\"\n",
    "        if i == 4: plain_text = plain_text + \"E\"\n",
    "        if i == 5: plain_text = plain_text + \"F\"\n",
    "        if i == 6: plain_text = plain_text + \"G\"\n",
    "        if i == 7: plain_text = plain_text + \"H\"\n",
    "        if i == 8: plain_text = plain_text + \"I\"\n",
    "        if i == 9: plain_text = plain_text + \"J\"\n",
    "        if i == 10: plain_text = plain_text + \"K\"\n",
    "        if i == 11: plain_text = plain_text + \"L\"\n",
    "        if i == 12: plain_text = plain_text + \"M\"\n",
    "        if i == 13: plain_text = plain_text + \"N\"\n",
    "        if i == 14: plain_text = plain_text + \"O\"\n",
    "        if i == 15: plain_text = plain_text + \"P\"\n",
    "        if i == 16: plain_text = plain_text + \"Q\"\n",
    "        if i == 17: plain_text = plain_text + \"R\"\n",
    "        if i == 18: plain_text = plain_text + \"S\"\n",
    "        if i == 19: plain_text = plain_text + \"T\"\n",
    "        if i == 20: plain_text = plain_text + \"U\"\n",
    "        if i == 21: plain_text = plain_text + \"V\"\n",
    "        if i == 22: plain_text = plain_text + \"W\"\n",
    "        if i == 23: plain_text = plain_text + \"X\"\n",
    "        if i == 24: plain_text = plain_text + \"Y\"\n",
    "        if i == 25: plain_text = plain_text + \"Z\"\n",
    "    return plain_text\n",
    "        "
   ]
  },
  {
   "cell_type": "markdown",
   "metadata": {},
   "source": [
    "These following cells define the CeasarEncrypt and the CeasarDecrypt functions that will be used to take an encoded message and encrypt it with the CeasarCipher, or any affine cipher that is desired. Do not change these cells. "
   ]
  },
  {
   "cell_type": "code",
   "execution_count": null,
   "metadata": {},
   "outputs": [],
   "source": [
    "def CeasarEncrypt(plain_text, a, b):\n",
    "    message = digitize(plain_text)\n",
    "    for i in range(0,len(message)):\n",
    "        message[i] = (a*message[i]+b) % 26\n",
    "    return alphabetize(message)"
   ]
  },
  {
   "cell_type": "code",
   "execution_count": null,
   "metadata": {},
   "outputs": [],
   "source": [
    "def CeasarDecrypt(cipher_text, a, b):\n",
    "    cipher_text = digitize(cipher_text)\n",
    "    inverse = inverse_mod(a, 26)\n",
    "    for i in range(0,len(cipher_text)):\n",
    "        cipher_text[i] = (inverse*cipher_text[i]-inverse*b) % 26\n",
    "    return alphabetize(cipher_text)\n",
    "    "
   ]
  },
  {
   "cell_type": "markdown",
   "metadata": {},
   "source": [
    "## Examples"
   ]
  },
  {
   "cell_type": "markdown",
   "metadata": {},
   "source": [
    "Here we go through some examples, of defining a message, encrypting that message, and then decrypting the message with the Ceasar Cipher."
   ]
  },
  {
   "cell_type": "markdown",
   "metadata": {},
   "source": [
    "#### Example 1"
   ]
  },
  {
   "cell_type": "code",
   "execution_count": null,
   "metadata": {},
   "outputs": [],
   "source": [
    "# defined the message to be encoded.  Uses 'x' as a space since 'x' is not a common character\n",
    "message = \"Thisxisxaxsecret\"\n",
    "\n",
    "# encrypts the message to hide from prying eyes, based on the affine cipher y = 5*x+4 mod 26\n",
    "cipher_text = CeasarEncrypt(message,5,4)\n",
    "\n",
    "# print the encrypted message\n",
    "print(cipher_text)\n",
    "\n",
    "# decrypts the message to read the information.\n",
    "plain_text = CeasarDecrypt(cipher_text, 5,4)\n",
    "\n",
    "# prints the plain text to the screen.\n",
    "print(plain_text)"
   ]
  },
  {
   "cell_type": "markdown",
   "metadata": {},
   "source": [
    "#### Example 2 "
   ]
  },
  {
   "cell_type": "code",
   "execution_count": null,
   "metadata": {},
   "outputs": [],
   "source": [
    "message = \"Spaces are not encoded or decoded\"\n",
    "cipher_text = CeasarEncrypt(message,7,25)\n",
    "\n",
    "print(cipher_text)\n",
    "\n",
    "# try decrypting with something other than the encryption mapping\n",
    "plain_text = CeasarDecrypt(cipher_text,19,3)\n",
    "\n",
    "print(plain_text)\n",
    "\n",
    "plain_text = CeasarDecrypt(cipher_text,7,25)\n",
    "\n",
    "print(plain_text)"
   ]
  },
  {
   "cell_type": "markdown",
   "metadata": {},
   "source": [
    "Practice encrypting and decrypting messages below with the affine cipher."
   ]
  },
  {
   "cell_type": "code",
   "execution_count": null,
   "metadata": {},
   "outputs": [],
   "source": []
  }
 ],
 "metadata": {
  "kernelspec": {
   "display_name": "SageMath 9.0",
   "language": "sage",
   "name": "sagemath"
  },
  "language_info": {
   "codemirror_mode": {
    "name": "ipython",
    "version": 3
   },
   "file_extension": ".py",
   "mimetype": "text/x-python",
   "name": "python",
   "nbconvert_exporter": "python",
   "pygments_lexer": "ipython3",
   "version": "3.8.10"
  }
 },
 "nbformat": 4,
 "nbformat_minor": 4
}
