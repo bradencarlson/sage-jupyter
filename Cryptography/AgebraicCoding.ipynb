{
 "cells": [
  {
   "cell_type": "code",
   "execution_count": 1,
   "metadata": {},
   "outputs": [
    {
     "name": "stdout",
     "output_type": "stream",
     "text": [
      "[1 0 0]\n",
      "[0 1 0]\n",
      "[0 0 1]\n",
      "[1 1 0]\n",
      "[1 0 1]\n",
      "[0 1 1]\n",
      "\n",
      "[1 1 0 1 0 0]\n",
      "[1 0 1 0 1 0]\n",
      "[0 1 1 0 0 1]\n"
     ]
    }
   ],
   "source": [
    "Z63_2 = MatrixSpace(GF(2),6,3)\n",
    "Z36_2 = MatrixSpace(GF(2),3,6)\n",
    "\n",
    "G = Z63_2([1,0,0, 0,1,0, 0,0,1, 1,1,0, 1,0,1, 0,1,1])\n",
    "H = Z36_2([1,1,0,1,0,0, 1,0,1,0,1,0, 0,1,1,0,0,1])\n",
    "\n",
    "print(G)\n",
    "\n",
    "print()\n",
    "\n",
    "print(H)"
   ]
  },
  {
   "cell_type": "code",
   "execution_count": 4,
   "metadata": {},
   "outputs": [],
   "source": [
    "message = MatrixSpace(GF(2),3,1)\n",
    "x = message([0,0,1])"
   ]
  },
  {
   "cell_type": "code",
   "execution_count": 288,
   "metadata": {},
   "outputs": [],
   "source": [
    "import random\n",
    "class Bernoulli:\n",
    "    def __init__(self, p):\n",
    "        self.p = p\n",
    "    def __repr__(self):\n",
    "        return f\"Bernoulli distribution with parameter {self.p}\"\n",
    "    def randomTrial(self):\n",
    "        value = random.random()\n",
    "        if value < self.p:\n",
    "            return 1\n",
    "        else:\n",
    "            return 0\n",
    "\n",
    "class SymmetricChannel:\n",
    "    def __init__(self, b):\n",
    "        if type(b) is Bernoulli:\n",
    "            self.bernoulli = b\n",
    "        else:\n",
    "            self.bernoulli = None\n",
    "    def __repr__(self):\n",
    "        return f\"A SymmetricChannel based on a Bernoulli distribution with parameter {self.bernoulli.p}\"\n",
    "    def test(self):\n",
    "        if type(self.bernoulli) is None:\n",
    "            return \"Not set up correctly\"\n",
    "        if type(self.bernoulli) is Bernoulli:\n",
    "            return \"Set up correctly\"\n",
    "    def transmit(self, message):\n",
    "        if type(message) is sage.matrix.matrix_mod2_dense.Matrix_mod2_dense:\n",
    "            transmitted = message\n",
    "            for i in range(0,len(message.rows())):\n",
    "                value = self.bernoulli.randomTrial()\n",
    "                if value==0:\n",
    "                    continue\n",
    "                else:\n",
    "                    if transmitted[i] == 0:\n",
    "                        transmitted[i] = 1\n",
    "                    else:\n",
    "                        transmitted[i] = 0\n",
    "            return transmitted\n",
    "        else:\n",
    "            return message\n",
    "        "
   ]
  },
  {
   "cell_type": "code",
   "execution_count": 331,
   "metadata": {},
   "outputs": [
    {
     "name": "stdout",
     "output_type": "stream",
     "text": [
      "[0]\n",
      "[0]\n",
      "[1]\n"
     ]
    },
    {
     "data": {
      "text/plain": [
       "True"
      ]
     },
     "execution_count": 331,
     "metadata": {},
     "output_type": "execute_result"
    }
   ],
   "source": [
    "B = Bernoulli(0.1)\n",
    "T = SymmetricChannel(B)\n",
    "x = message([0,0,1])\n",
    "print(T.transmit(x))\n",
    "y = x\n",
    "y[1]==0"
   ]
  }
 ],
 "metadata": {
  "kernelspec": {
   "display_name": "SageMath 9.0",
   "language": "sage",
   "name": "sagemath"
  },
  "language_info": {
   "codemirror_mode": {
    "name": "ipython",
    "version": 3
   },
   "file_extension": ".py",
   "mimetype": "text/x-python",
   "name": "python",
   "nbconvert_exporter": "python",
   "pygments_lexer": "ipython3",
   "version": "3.8.10"
  }
 },
 "nbformat": 4,
 "nbformat_minor": 4
}
