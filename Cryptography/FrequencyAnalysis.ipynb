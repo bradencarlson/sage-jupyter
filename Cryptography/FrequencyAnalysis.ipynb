{
 "cells": [
  {
   "cell_type": "markdown",
   "metadata": {},
   "source": [
    "# Frequency Analysis"
   ]
  },
  {
   "cell_type": "markdown",
   "metadata": {},
   "source": [
    "Here we define the variables and methods needed to easily perform frequency analysis in order to break the Ceasar Cipher defined earlier in this series of documents.  \n",
    "\n",
    "In the cell below, we define an array of all the characters of the English alphabet, as well as a dictionary that corresponds to their encoding, as was defined in the Ceasar Cipher document.  \n",
    "\n",
    "If you have not seen dictionaries before, remember that they are a data structure that contains `(key: value)` pairs of data.  "
   ]
  },
  {
   "cell_type": "code",
   "execution_count": null,
   "metadata": {},
   "outputs": [],
   "source": [
    "alphabet = {'a','b','c','d','e','f','g','h','i','j','k','l','m','n','o','p','q','r','s','t','u','v','w','x','y','z'}\n",
    "alpha = {'a':0, 'b':1,'c':2,'d':3,'e':4,'f':5,\n",
    "         'g':6,'h':7,'i':8,'j':9,'k':10,'l':11,\n",
    "         'm':12,'n':13,'o':14,'p':15,'q':16,'r':17,\n",
    "         's':18,'t':19,'u':20,'v':21,'w':22,'x':23,'y':24,'z':25}"
   ]
  },
  {
   "cell_type": "markdown",
   "metadata": {},
   "source": [
    "Here we define the `create_frequencies()` function, this function reads through the `words.txt` file, which is just a dictionary (a real one, not the data structure discussed above) in .txt form, and counts each letter in the dictionary, then goes through and divides each count by the total number of letters to obtain a percentage for each letter."
   ]
  },
  {
   "cell_type": "code",
   "execution_count": null,
   "metadata": {},
   "outputs": [],
   "source": [
    "def create_frequencies():\n",
    "    letters = {}\n",
    "    count = 0\n",
    "    with open('words.txt', 'r') as file:\n",
    "        for word in file:\n",
    "            for letter in word:\n",
    "                if letter in alphabet:\n",
    "                    if letter in letters.keys():\n",
    "                        letters[letter.lower()] = letters[letter.lower()]+1\n",
    "                    else:\n",
    "                        letters[letter.lower()] = 1\n",
    "                    count = count+1\n",
    "    for k in letters.keys():\n",
    "        letters[k] = float(letters[k]/count)\n",
    "    return letters"
   ]
  },
  {
   "cell_type": "markdown",
   "metadata": {},
   "source": [
    "Here, we define the actual function that will be used to perform frequency analysis.  We go through the ciphertext provided, and find the frequencies of each letter.  Then, we output the five 'most likely' options for the shift cipher. "
   ]
  },
  {
   "cell_type": "code",
   "execution_count": null,
   "metadata": {},
   "outputs": [],
   "source": [
    "def analize(ciphertext: str):\n",
    "    # test the input to ensure that the ciphertext was a string.\n",
    "    if type(ciphertext)!=str:\n",
    "        raise Exception(\"Incorrect type passed to analize function.\")\n",
    "    else:\n",
    "        # define the dictionary that we will use to store the frequencies.\n",
    "        frequencies = {}\n",
    "        count = 0\n",
    "        # go through each letter in the ciphertext.\n",
    "        for letter in ciphertext.lower():\n",
    "            # if that letter is in the alphabet,\n",
    "            if letter in alphabet:\n",
    "                # either add it to the frequencies dictionary, or if the key already exists,\n",
    "                # increment its count.\n",
    "                if letter in frequencies.keys():\n",
    "                    frequencies[letter] = frequencies[letter]+1\n",
    "                else:\n",
    "                    frequencies[letter] = 1\n",
    "                count = count + 1\n",
    "        # go through and divide each count by the total.\n",
    "        for k in frequencies.keys():\n",
    "            frequencies[k] = float(frequencies[k]/count)\n",
    "        # get the frequencies from the english dictionary.\n",
    "        common = create_frequencies()\n",
    "        # sort both the ciphertext frequencies and the dictionaries frequencies.\n",
    "        frequencies_sorted = sorted(((value,key) for (key,value) in frequencies.items()),reverse=True)\n",
    "        common_sorted = sorted(((value,key) for (key,value) in common.items()),reverse=True)\n",
    "        most_likely = []\n",
    "        # get the top five most likely options for the shift cipher.\n",
    "        for i in range(0,5):\n",
    "            if frequencies_sorted[0][0]>0.16:\n",
    "                pos = 1\n",
    "            else:\n",
    "                pos = 0\n",
    "            a = common_sorted[i][1]\n",
    "            b = frequencies_sorted[pos][1]\n",
    "            c = alpha[b]-alpha[a]\n",
    "            most_likely.append((a,b,c % 26))\n",
    "        # return the most likely options.\n",
    "        return most_likely"
   ]
  },
  {
   "cell_type": "markdown",
   "metadata": {},
   "source": [
    "Here we go through some example.  The following was encrypted using a simple shift cipher.  Can we detect which cipher was used without using brute force?"
   ]
  },
  {
   "cell_type": "code",
   "execution_count": null,
   "metadata": {},
   "outputs": [],
   "source": [
    "analize(\"MXXTGYMZIUEPAYUEOAZFMUZQPUZFTQEQFIAIADPEIMUFMZPTABQMXQJMZPDQPGYME\")"
   ]
  }
 ],
 "metadata": {
  "kernelspec": {
   "display_name": "SageMath 9.0",
   "language": "sage",
   "name": "sagemath"
  },
  "language_info": {
   "codemirror_mode": {
    "name": "ipython",
    "version": 3
   },
   "file_extension": ".py",
   "mimetype": "text/x-python",
   "name": "python",
   "nbconvert_exporter": "python",
   "pygments_lexer": "ipython3",
   "version": "3.8.10"
  }
 },
 "nbformat": 4,
 "nbformat_minor": 4
}
