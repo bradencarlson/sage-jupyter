{
 "cells": [
  {
   "cell_type": "code",
   "execution_count": 3,
   "metadata": {},
   "outputs": [],
   "source": [
    "alphabet = {'a','b','c','d','e','f','g','h','i','j','k','l','m','n','o','p','q','r','s','t','u','v','w','x','y','z'}\n",
    "alpha = {'a':0, 'b':1,'c':2,'d':3,'e':4,'f':5,\n",
    "         'g':6,'h':7,'i':8,'j':9,'k':10,'l':11,\n",
    "         'm':12,'n':13,'o':14,'p':15,'q':16,'r':17,\n",
    "         's':18,'t':19,'u':20,'v':21,'w':22,'x':23,'y':24,'z':25}"
   ]
  },
  {
   "cell_type": "code",
   "execution_count": 4,
   "metadata": {},
   "outputs": [],
   "source": [
    "def create_frequencies():\n",
    "    letters = {}\n",
    "    count = 0\n",
    "    with open('words.txt', 'r') as file:\n",
    "        for word in file:\n",
    "            for letter in word:\n",
    "                if letter in alphabet:\n",
    "                    if letter in letters.keys():\n",
    "                        letters[letter.lower()] = letters[letter.lower()]+1\n",
    "                    else:\n",
    "                        letters[letter.lower()] = 1\n",
    "                    count = count+1\n",
    "    for k in letters.keys():\n",
    "        letters[k] = float(letters[k]/count)\n",
    "    return letters"
   ]
  },
  {
   "cell_type": "code",
   "execution_count": 5,
   "metadata": {},
   "outputs": [
    {
     "name": "stdout",
     "output_type": "stream",
     "text": [
      "a: 0.08028354673082419\n",
      "b: 0.022700330927426418\n",
      "c: 0.0359890489754155\n",
      "d: 0.04119170745646784\n",
      "e: 0.1177437939585004\n",
      "f: 0.015259533751832085\n",
      "g: 0.029569609984974606\n",
      "h: 0.024342984615100982\n",
      "i: 0.07500530036964317\n",
      "j: 0.0025957984200289446\n",
      "k: 0.014186554575371256\n",
      "l: 0.055759888646147324\n",
      "m: 0.028445009817206383\n",
      "n: 0.05773807877731995\n",
      "o: 0.060955172699870025\n",
      "p: 0.029337315524091332\n",
      "q: 0.0018012038752615617\n",
      "r: 0.07212189928375874\n",
      "s: 0.09322197948065596\n",
      "t: 0.05739885512015708\n",
      "u: 0.03669883760589217\n",
      "v: 0.009651281767650231\n",
      "w: 0.011983444410644986\n",
      "x: 0.0033184922983324574\n",
      "y: 0.018312546666297946\n",
      "z: 0.004387784261128472\n"
     ]
    }
   ],
   "source": [
    "letters = create_frequencies()\n",
    "for k,v in sorted(letters.items()):\n",
    "    print(f\"{k}: {float(v)}\")"
   ]
  },
  {
   "cell_type": "code",
   "execution_count": 21,
   "metadata": {},
   "outputs": [],
   "source": [
    "def analize(ciphertext: str, method: str):\n",
    "    if type(ciphertext)!=str or type(method)!=str:\n",
    "        raise Exception(\"Incorrect type passed to analize function.\")\n",
    "    if method==\"Ceasar\" or method==\"ceasar\":\n",
    "        frequencies = {}\n",
    "        count = 0\n",
    "        for letter in ciphertext.lower():\n",
    "            if letter in alphabet:\n",
    "                if letter in frequencies.keys():\n",
    "                    frequencies[letter] = frequencies[letter]+1\n",
    "                else:\n",
    "                    frequencies[letter] = 1\n",
    "                count = count + 1\n",
    "        for k in frequencies.keys():\n",
    "            frequencies[k] = float(frequencies[k]/count)\n",
    "        common = create_frequencies()\n",
    "        frequencies_sorted = sorted(((value,key) for (key,value) in frequencies.items()),reverse=True)\n",
    "        common_sorted = sorted(((value,key) for (key,value) in common.items()),reverse=True)\n",
    "        most_likely = []\n",
    "        for i in range(0,5):\n",
    "            if frequencies_sorted[0][0]>0.16:\n",
    "                pos = 1\n",
    "            else:\n",
    "                pos = 0\n",
    "            a = common_sorted[i][1]\n",
    "            b = frequencies_sorted[pos][1]\n",
    "            c = alpha[b]-alpha[a]\n",
    "            most_likely.append((a,b,c % 26))\n",
    "        return most_likely"
   ]
  },
  {
   "cell_type": "code",
   "execution_count": 25,
   "metadata": {},
   "outputs": [
    {
     "data": {
      "text/plain": [
       "[('e', 'e', 0), ('s', 'e', 12), ('a', 'e', 4), ('i', 'e', 22), ('r', 'e', 13)]"
      ]
     },
     "execution_count": 25,
     "metadata": {},
     "output_type": "execute_result"
    }
   ],
   "source": [
    "analize(\"FTUEJUEJEAYQJYQEEMSQJUJMYJFDKUZSJFAJPAJEAYQFTUZSJEQODQFJNGFJEAYQFTUZSEJMDQJOTMZSQPJUZJFTUEJYQEEMSQJJ\",\"Ceasar\")"
   ]
  }
 ],
 "metadata": {
  "kernelspec": {
   "display_name": "SageMath 9.0",
   "language": "sage",
   "name": "sagemath"
  },
  "language_info": {
   "codemirror_mode": {
    "name": "ipython",
    "version": 3
   },
   "file_extension": ".py",
   "mimetype": "text/x-python",
   "name": "python",
   "nbconvert_exporter": "python",
   "pygments_lexer": "ipython3",
   "version": "3.8.10"
  }
 },
 "nbformat": 4,
 "nbformat_minor": 4
}
