{
 "cells": [
  {
   "cell_type": "markdown",
   "metadata": {},
   "source": [
    "# Hill Cipher"
   ]
  },
  {
   "cell_type": "markdown",
   "metadata": {},
   "source": [
    "Below is the code to implement the Hill Cipher, which is an example of a **polyalphabetic cryptosystem**, that is, it does not assign a single ciphertext letter to a single plaintext letter, but rather a ciphertext letter may represent more than one plaintext letter.  This example is from Judson's [Abstract Algebra](http://abstract.ups.edu/sage-aata.html) textbook, example 7.4.  The encryption is based on the matrix \n",
    "\\begin{equation*}\n",
    "A=\\left(\\begin{array}{cc}\n",
    "3 & 5 \\\\\n",
    "1 & 2\n",
    "\\end{array}\\right)\n",
    "\\end{equation*}\n",
    "and encrypts pairs of letters at a time, rather than one letter at a time.  \n",
    "\n",
    "The digitize and alphabetize functions are rather similar to the ones found in the CeasarCipher document, the bigest change being that these pair the numbers up so as to form matrices for encryption and decryption."
   ]
  },
  {
   "cell_type": "code",
   "execution_count": null,
   "metadata": {},
   "outputs": [],
   "source": [
    "def digitize(string):\n",
    "    cipher_text = []\n",
    "    holder = []\n",
    "    for i in string:\n",
    "        if i == 'A' or i == 'a': holder.append(0)\n",
    "        if i == 'B' or i == 'b': holder.append(1)\n",
    "        if i == 'C' or i == 'c': holder.append(2)\n",
    "        if i == 'D' or i == 'd': holder.append(3)\n",
    "        if i == 'E' or i == 'e': holder.append(4)\n",
    "        if i == 'F' or i == 'f': holder.append(5)\n",
    "        if i == 'G' or i == 'g': holder.append(6)\n",
    "        if i == 'H' or i == 'h': holder.append(7)\n",
    "        if i == 'I' or i == 'i': holder.append(8)\n",
    "        if i == 'J' or i == 'j': holder.append(9)\n",
    "        if i == 'K' or i == 'k': holder.append(10)\n",
    "        if i == 'L' or i == 'l': holder.append(11)\n",
    "        if i == 'M' or i == 'm': holder.append(12)\n",
    "        if i == 'N' or i == 'n': holder.append(13)\n",
    "        if i == 'O' or i == 'o': holder.append(14)\n",
    "        if i == 'P' or i == 'p': holder.append(15)\n",
    "        if i == 'Q' or i == 'q': holder.append(16)\n",
    "        if i == 'R' or i == 'r': holder.append(17)\n",
    "        if i == 'S' or i == 's': holder.append(18)\n",
    "        if i == 'T' or i == 't': holder.append(19)\n",
    "        if i == 'U' or i == 'u': holder.append(20)\n",
    "        if i == 'V' or i == 'v': holder.append(21)\n",
    "        if i == 'W' or i == 'w': holder.append(22)\n",
    "        if i == 'X' or i == 'x': holder.append(23)\n",
    "        if i == 'Y' or i == 'y': holder.append(24)\n",
    "        if i == 'Z' or i == 'z': holder.append(25)\n",
    "        if len(holder)==2:\n",
    "            cipher_text.append(matrix(holder))\n",
    "            holder = []\n",
    "    if len(holder)==1:\n",
    "        holder.append(23)\n",
    "        cipher_text.append(matrix(holder))\n",
    "    return cipher_text\n",
    "\n",
    "        "
   ]
  },
  {
   "cell_type": "code",
   "execution_count": null,
   "metadata": {},
   "outputs": [],
   "source": [
    "\n",
    "def alphabetize(digits):\n",
    "    plain_text = \"\"\n",
    "    comparison = MatrixSpace(IntegerModRing(26),1,1)\n",
    "    for number in digits:\n",
    "        for i in number:\n",
    "            if i == comparison([0])[0]: plain_text = plain_text + \"A\"\n",
    "            if i == comparison([1])[0]: plain_text = plain_text + \"B\"\n",
    "            if i == comparison([2])[0]: plain_text = plain_text + \"C\"\n",
    "            if i == comparison([3])[0]: plain_text = plain_text + \"D\"\n",
    "            if i == comparison([4])[0]: plain_text = plain_text + \"E\"\n",
    "            if i == comparison([5])[0]: plain_text = plain_text + \"F\"\n",
    "            if i == comparison([6])[0]: plain_text = plain_text + \"G\"\n",
    "            if i == comparison([7])[0]: plain_text = plain_text + \"H\"\n",
    "            if i == comparison([8])[0]: plain_text = plain_text + \"I\"\n",
    "            if i == comparison([9])[0]: plain_text = plain_text + \"J\"\n",
    "            if i == comparison([10])[0]: plain_text = plain_text + \"K\"\n",
    "            if i == comparison([11])[0]: plain_text = plain_text + \"L\"\n",
    "            if i == comparison([12])[0]: plain_text = plain_text + \"M\"\n",
    "            if i == comparison([13])[0]: plain_text = plain_text + \"N\"\n",
    "            if i == comparison([14])[0]: plain_text = plain_text + \"O\"\n",
    "            if i == comparison([15])[0]: plain_text = plain_text + \"P\"\n",
    "            if i == comparison([16])[0]: plain_text = plain_text + \"Q\"\n",
    "            if i == comparison([17])[0]: plain_text = plain_text + \"R\"\n",
    "            if i == comparison([18])[0]: plain_text = plain_text + \"S\"\n",
    "            if i == comparison([19])[0]: plain_text = plain_text + \"T\"\n",
    "            if i == comparison([20])[0]: plain_text = plain_text + \"U\"\n",
    "            if i == comparison([21])[0]: plain_text = plain_text + \"V\"\n",
    "            if i == comparison([22])[0]: plain_text = plain_text + \"W\"\n",
    "            if i == comparison([23])[0]: plain_text = plain_text + \"X\"\n",
    "            if i == comparison([24])[0]: plain_text = plain_text + \"Y\"\n",
    "            if i == comparison([25])[0]: plain_text = plain_text + \"Z\"\n",
    "    return plain_text"
   ]
  },
  {
   "cell_type": "markdown",
   "metadata": {},
   "source": [
    "Here we define the HillEncrypt and HillDecrypt functions, which take in strings, and encrypt or decrypt them according to the matrices passed into them as parameters.  "
   ]
  },
  {
   "cell_type": "code",
   "execution_count": null,
   "metadata": {},
   "outputs": [],
   "source": [
    "def HillEncrypt(message, A, b):\n",
    "    encoded = digitize(message)\n",
    "    cipher_text = []\n",
    "    for item in encoded:\n",
    "        cipher_text.append(A*item.transpose()+b)\n",
    "    return alphabetize(cipher_text)\n",
    "\n",
    "def HillDecrypt(message, A, b):\n",
    "    try:\n",
    "        A = A.inverse()\n",
    "    except Exception as e:\n",
    "        print(e)\n",
    "        return;\n",
    "    encoded = digitize(message)\n",
    "    plain_text = []\n",
    "    for item in encoded:\n",
    "        plain_text.append(A*item.transpose()-A*b)\n",
    "    return alphabetize(plain_text)"
   ]
  },
  {
   "cell_type": "markdown",
   "metadata": {},
   "source": [
    "Here we use MatrixSpaces over the Ring of integers mod 26, to define the matrices used for encryption and decryption.  We use MatrixSpaces rather than ordinary matrices to ensure that the inverse of $A$ is calculated correctly.  Note that the matrix $A$ must be nonsingular.  If HillEncrypt recieves a singular matrix $A$, it will encrypt it, but note that the original message can't be recovered. If HillDecrypt revieves a singular matrix, it will stop and return nothing. "
   ]
  },
  {
   "cell_type": "code",
   "execution_count": null,
   "metadata": {},
   "outputs": [],
   "source": [
    "Z22_26 = MatrixSpace(IntegerModRing(26),2,2)\n",
    "Z21_26 = MatrixSpace(IntegerModRing(26),2,1)\n",
    "\n",
    "# these are the matrices used in the example in the book.\n",
    "A = Z22_26([[3,5],[1,2]])\n",
    "b = Z21_26([2,2])"
   ]
  },
  {
   "cell_type": "markdown",
   "metadata": {},
   "source": [
    "Here we go through the example in the text, which is the example in the book, encrypting the message \"help\"."
   ]
  },
  {
   "cell_type": "code",
   "execution_count": null,
   "metadata": {},
   "outputs": [],
   "source": [
    "message = \"help\"\n",
    "encrypted = HillEncrypt(message,A,b)\n",
    "print(encrypted)\n",
    "decrypted = HillDecrypt(encrypted,A,b)\n",
    "print(decrypted)"
   ]
  }
 ],
 "metadata": {
  "kernelspec": {
   "display_name": "SageMath 9.7",
   "language": "sage",
   "name": "sagemath"
  },
  "language_info": {
   "codemirror_mode": {
    "name": "ipython",
    "version": 3
   },
   "file_extension": ".py",
   "mimetype": "text/x-python",
   "name": "python",
   "nbconvert_exporter": "python",
   "pygments_lexer": "ipython3",
   "version": "3.10.8"
  }
 },
 "nbformat": 4,
 "nbformat_minor": 4
}
