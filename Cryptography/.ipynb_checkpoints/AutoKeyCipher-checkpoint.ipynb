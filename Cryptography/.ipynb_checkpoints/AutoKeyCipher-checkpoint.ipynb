{
 "cells": [
  {
   "cell_type": "markdown",
   "metadata": {},
   "source": [
    "# Autokey Cipher"
   ]
  },
  {
   "cell_type": "markdown",
   "metadata": {},
   "source": [
    "Here we talk about the Autokey Cipher.  This is similar to the Vigenere Cipher, except that instead of a secret code word, we choose a secret seed letter.  Then after the initial seed letter is used, the message itself is the keyword used for encryption.  We demonstrate this with an example.  Using the same encoding scheme $A\\rightarrow 00$, $B\\rightarrow 01$, $\\dots$, $Z\\rightarrow 25$, and choosing our seed letter to be E, we have\n",
    "\n",
    "$$\n",
    "\\begin{array}{ccccccc}\n",
    "  & A & T & T & A & C & K \\\\\n",
    "  & 00 & 19 & 19 & 00 & 02 & 10 \\\\\n",
    "  & E & A & T & T & A & C \\\\\n",
    "+ & 04 & 00 & 19 & 19 & 00 & 02 \\\\\n",
    "\\hline \n",
    "  & 04 & 19 & 12 & 19 & 02 & 12 \\\\\n",
    "  & E & T & M & T & C & M\n",
    "\\end{array}\n",
    "$$\n",
    "\n",
    "To decrypt, since we know the seed letter E, if we recieve the message ETMTCM, we encode the message and the seed letter, then we subtract the value of the seed letter from the first letter of the message.  The result, then becomes the number that we must subtract from the second letter of the message, and so on, like so:\n",
    "\n",
    "$$\n",
    "\\begin{array}{ccccccc}\n",
    "  & E & T & M & T & C & M \\\\\n",
    "  & 04 & 19 & 12 & 19 & 02 & 12 \\\\\n",
    "- & 04 & 00 & 19 & 19 & 00 & 02 \\\\\n",
    "\\hline \n",
    "  & 00 & 19 & 19 & 00 & 02 & 10 \\\\\n",
    "  & A & T & T & A & C & K\n",
    "\\end{array}\n",
    "$$\n",
    "\n",
    "We implement this in the following code."
   ]
  },
  {
   "cell_type": "code",
   "execution_count": null,
   "metadata": {},
   "outputs": [],
   "source": [
    "def digitize(string):\n",
    "    cipher_text = []\n",
    "    for i in string:\n",
    "        if i == 'A' or i == 'a': cipher_text.append(0)\n",
    "        if i == 'B' or i == 'b': cipher_text.append(1)\n",
    "        if i == 'C' or i == 'c': cipher_text.append(2)\n",
    "        if i == 'D' or i == 'd': cipher_text.append(3)\n",
    "        if i == 'E' or i == 'e': cipher_text.append(4)\n",
    "        if i == 'F' or i == 'f': cipher_text.append(5)\n",
    "        if i == 'G' or i == 'g': cipher_text.append(6)\n",
    "        if i == 'H' or i == 'h': cipher_text.append(7)\n",
    "        if i == 'I' or i == 'i': cipher_text.append(8)\n",
    "        if i == 'J' or i == 'j': cipher_text.append(9)\n",
    "        if i == 'K' or i == 'k': cipher_text.append(10)\n",
    "        if i == 'L' or i == 'l': cipher_text.append(11)\n",
    "        if i == 'M' or i == 'm': cipher_text.append(12)\n",
    "        if i == 'N' or i == 'n': cipher_text.append(13)\n",
    "        if i == 'O' or i == 'o': cipher_text.append(14)\n",
    "        if i == 'P' or i == 'p': cipher_text.append(15)\n",
    "        if i == 'Q' or i == 'q': cipher_text.append(16)\n",
    "        if i == 'R' or i == 'r': cipher_text.append(17)\n",
    "        if i == 'S' or i == 's': cipher_text.append(18)\n",
    "        if i == 'T' or i == 't': cipher_text.append(19)\n",
    "        if i == 'U' or i == 'u': cipher_text.append(20)\n",
    "        if i == 'V' or i == 'v': cipher_text.append(21)\n",
    "        if i == 'W' or i == 'w': cipher_text.append(22)\n",
    "        if i == 'X' or i == 'x': cipher_text.append(23)\n",
    "        if i == 'Y' or i == 'y': cipher_text.append(24)\n",
    "        if i == 'Z' or i == 'z': cipher_text.append(25)\n",
    "    return cipher_text\n",
    "\n",
    "def alphabetize(digits):\n",
    "    plain_text = \"\"\n",
    "    for i in digits:\n",
    "        if i == 0: plain_text = plain_text + \"A\"\n",
    "        if i == 1: plain_text = plain_text + \"B\"\n",
    "        if i == 2: plain_text = plain_text + \"C\"\n",
    "        if i == 3: plain_text = plain_text + \"D\"\n",
    "        if i == 4: plain_text = plain_text + \"E\"\n",
    "        if i == 5: plain_text = plain_text + \"F\"\n",
    "        if i == 6: plain_text = plain_text + \"G\"\n",
    "        if i == 7: plain_text = plain_text + \"H\"\n",
    "        if i == 8: plain_text = plain_text + \"I\"\n",
    "        if i == 9: plain_text = plain_text + \"J\"\n",
    "        if i == 10: plain_text = plain_text + \"K\"\n",
    "        if i == 11: plain_text = plain_text + \"L\"\n",
    "        if i == 12: plain_text = plain_text + \"M\"\n",
    "        if i == 13: plain_text = plain_text + \"N\"\n",
    "        if i == 14: plain_text = plain_text + \"O\"\n",
    "        if i == 15: plain_text = plain_text + \"P\"\n",
    "        if i == 16: plain_text = plain_text + \"Q\"\n",
    "        if i == 17: plain_text = plain_text + \"R\"\n",
    "        if i == 18: plain_text = plain_text + \"S\"\n",
    "        if i == 19: plain_text = plain_text + \"T\"\n",
    "        if i == 20: plain_text = plain_text + \"U\"\n",
    "        if i == 21: plain_text = plain_text + \"V\"\n",
    "        if i == 22: plain_text = plain_text + \"W\"\n",
    "        if i == 23: plain_text = plain_text + \"X\"\n",
    "        if i == 24: plain_text = plain_text + \"Y\"\n",
    "        if i == 25: plain_text = plain_text + \"Z\"\n",
    "    return plain_text\n",
    "        \n",
    "def AutoKeyEncrypt(plaintext: str, seed: str):\n",
    "    ciphertext = digitize(plaintext)\n",
    "    number = digitize(seed)[0]\n",
    "    for i in range(0,len(ciphertext)):\n",
    "        temp = ciphertext[i]\n",
    "        ciphertext[i] = (ciphertext[i] + number) % 26\n",
    "        number = temp\n",
    "    return alphabetize(ciphertext)\n",
    "\n",
    "def AutoKeyDecrypt(ciphertext: str, seed: str):\n",
    "    plaintext = digitize(ciphertext)\n",
    "    number = digitize(seed)[0]\n",
    "    for i in range(0,len(plaintext)):\n",
    "        plaintext[i] = (plaintext[i] - number) % 26\n",
    "        number = plaintext[i]\n",
    "    return alphabetize(plaintext)"
   ]
  },
  {
   "cell_type": "markdown",
   "metadata": {},
   "source": [
    "Here we go through the same example as above, to demonstrate the code above.  We encode the message ATTACK, and then decode the same message."
   ]
  },
  {
   "cell_type": "code",
   "execution_count": null,
   "metadata": {},
   "outputs": [],
   "source": [
    "print(AutoKeyEncrypt(\"attack\", \"e\"))"
   ]
  },
  {
   "cell_type": "code",
   "execution_count": null,
   "metadata": {},
   "outputs": [],
   "source": [
    "print(AutoKeyDecrypt(\"etmtcm\", \"e\"))"
   ]
  }
 ],
 "metadata": {
  "kernelspec": {
   "display_name": "SageMath 9.0",
   "language": "sage",
   "name": "sagemath"
  },
  "language_info": {
   "codemirror_mode": {
    "name": "ipython",
    "version": 3
   },
   "file_extension": ".py",
   "mimetype": "text/x-python",
   "name": "python",
   "nbconvert_exporter": "python",
   "pygments_lexer": "ipython3",
   "version": "3.8.10"
  }
 },
 "nbformat": 4,
 "nbformat_minor": 4
}
