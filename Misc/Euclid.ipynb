{
 "cells": [
  {
   "cell_type": "markdown",
   "metadata": {},
   "source": [
    "# Euclidean Algorithm\n",
    "\n",
    "Here we explore one implementation of the Euclidean Algorithm.  Although this may not be the most efficient impelmentation of the Euclidean Algorithm, it is the one I wrote.  Finding the GCD is the easy part of this Algorithm, it is the back substitution that needs some creativity here.  In this document, we will go through the process of developing an algorithm that implements the both sides of the Euclidean Algorithm.\n",
    "\n",
    "Here we look at an implementation of the Euclidean Algorithm with no back substitution, that is, it only returns the greatest common divisor of two numbers.  Here we override the gcd function that is provided to us by SageMath, and create our own.  Let's take a look."
   ]
  },
  {
   "cell_type": "code",
   "execution_count": null,
   "metadata": {},
   "outputs": [],
   "source": [
    "# define the gcd function that will take in two parameters which must be integers.\n",
    "def gcd(a,b):\n",
    "    \n",
    "    # set the variable atemp to the maximum of the two numbers.\n",
    "    # Note that we take the absolute value of each of the numbers,\n",
    "    # as this does not change the gcd.\n",
    "    atemp = max(abs(a),abs(b))\n",
    "    \n",
    "    # similar with btemp, but the minimum.\n",
    "    btemp = min(abs(a),abs(b))\n",
    "    \n",
    "    # let a be the maximum of the two, and b be the minimum of the two, \n",
    "    # where both are now positive, if they were not before\n",
    "    a = atemp\n",
    "    b = btemp\n",
    "    \n",
    "    # while b is non zero...\n",
    "    while b > 0:\n",
    "        # obtain the quotient of a/b...\n",
    "        quotient = floor(a/b)\n",
    "        # as well as the remainder of a/b...\n",
    "        remainder = a % b\n",
    "        # then, for the next step in the Euclidean Algorithm, set\n",
    "        # a to be the current value of b, and set b to be the remainder \n",
    "        # obtained from the previous step, continue this process untill\n",
    "        # the remainder is zero.\n",
    "        a = b\n",
    "        b = remainder\n",
    "        \n",
    "    # return the quotient, as this will be the greatest common divisor.\n",
    "    return a"
   ]
  },
  {
   "cell_type": "markdown",
   "metadata": {},
   "source": [
    "Here we give this function a test.  We test a few different numbers, as well as some large ones to demonstrate the speed and efficiency of the Euclidean Algorithm."
   ]
  },
  {
   "cell_type": "code",
   "execution_count": null,
   "metadata": {},
   "outputs": [],
   "source": [
    "print(f\"gcd(5,12)={gcd(5,12)}\")\n",
    "result = gcd(5^23,23^5)\n",
    "print(f\"gcd(5^23,23^5)={result}\")"
   ]
  },
  {
   "cell_type": "markdown",
   "metadata": {},
   "source": [
    "Now we turn our attention to the problem of finding some linear combination of the two numbers that equals their gcd.  To see how this is done, consider the following general Euclidean Algorithm:\n",
    "\\begin{align*}\n",
    "a = q_1 b+r_1 \\\\\n",
    "b = q_2 r_1 + r_2 \\\\\n",
    "\\vdots \\\\\n",
    "r_{n-2}=q_n r_{n-1}+r_n \\\\\n",
    "r_{n-1}=q_{n+1}r_n \n",
    "\\end{align*}\n",
    "Where we know that $\\gcd(a,b)=r_n$.  We can then work our way back up from the second to last line, we can write\n",
    "\n",
    "$$ r_n=r_{n-2}-q_{n}r_{n-1} $$\n",
    "But, since \n",
    "\n",
    "$$r_{n-1}=r_{n-3}-q_{n-1}r_{n-2} $$\n",
    "\n",
    "We can write\n",
    "\n",
    "$$r_n=r_{n-2}-q_n(r_{n-3}-q_{n-1}r_{n-2}) =(1+q_nq_{n-1})r_{n-2}-q_nr_{n-3}$$\n",
    "\n",
    "And so on through until we reach the top level, and have some linear combination of $a$ and $b$.  To implement this in an algorithm, we consider the following steps a computer might take. \n",
    "\n",
    "> first, let $x=1$ and $y=-q_n$  \n",
    "> then $r_n=xr_{n-2}+yr_{n-1}$  \n",
    "> then write $r_n=xr_{n-2}+y(r_{n-3}-q_{n-1}r_{n-2})=(x-q_{n-1}y)r_{n-2}+yr_{n-3}$  \n",
    "> set $x=x-q_{n-2}y$ and $y=y$  \n",
    "> then $r_n=xr_{n-2}+yr_{n-3}$  \n",
    "> then write $r_n=x(r_{n-4}-q_{n-2}r_{n-3})+yr_{n-3}=xr_{n-4}+(y-q_{n-2}x)r_{n-3}$  \n",
    "> set $x=x$ and $y=y-q_{n-2}x)$  \n",
    "> then $r_n=xr_{n-4}+yr_{n-3}$  \n",
    "> continue until we reach the top equation, then we will have a  \n",
    "> combination of $a$ and $b$ that equals $r_n=gcd(a,b)$"
   ]
  },
  {
   "cell_type": "code",
   "execution_count": null,
   "metadata": {},
   "outputs": [],
   "source": [
    "# redefine our gcd function, similar as before, must have\n",
    "# two intengers as input.\n",
    "def gcd_full(a: int,b: int):\n",
    "    # store the original values of a and b into the \n",
    "    # variables aOrig and bOrig, to be used at the end\n",
    "    aOrig = a\n",
    "    bOrig = b\n",
    "    \n",
    "    # let atemp be the maximum of the absolute values of a and b\n",
    "    # let btemp be the minimum\n",
    "    atemp = max(abs(a),abs(b))\n",
    "    btemp = min(abs(a),abs(b))\n",
    "    \n",
    "    # reassign the max value to be a and the minimum value to be b\n",
    "    a = atemp\n",
    "    b = btemp\n",
    "    \n",
    "    # create a list to hold all of the quotients, there is no need to \n",
    "    # save all the remainders, as they are not used in the pseudocode \n",
    "    # above\n",
    "    quotients = []\n",
    "    \n",
    "    # same as before, go through and perform the steps of the Euclidean\n",
    "    # algorithm, only this time, save all of the quotients into the list\n",
    "    # that we just defined.\n",
    "    while b > 0:\n",
    "        quotient = floor(a/b)\n",
    "        remainder = a % b\n",
    "        a = b\n",
    "        b = remainder\n",
    "        quotients.append(quotient)\n",
    "    \n",
    "    # let d, be the value of the gcd\n",
    "    d = a\n",
    "    \n",
    "    # throw the very last equation (the one with no remainder)\n",
    "    # away, since we do not use it in the pseudocode above\n",
    "    quotients.pop()\n",
    "    \n",
    "    # set x and y to their initial values\n",
    "    x = 1\n",
    "    y = -quotients.pop()\n",
    "    \n",
    "    # set the count equal to one, this will be used to alternate which one of x and y\n",
    "    # we change in each step\n",
    "    count = 0\n",
    "    \n",
    "    # follow the pseudocode above until there are no longer any quotients left\n",
    "    while len(quotients)!=0:\n",
    "        if count % 2 == 0:\n",
    "            x = x-quotients.pop()*y\n",
    "        if count % 2 == 1:\n",
    "            y = y-quotients.pop()*x\n",
    "        \n",
    "        count = count + 1\n",
    "    \n",
    "    # this part is a little messy (sorry about that), but test to see which linear \n",
    "    # combination of the original values of a and b give us the gcd, then\n",
    "    # return those values\n",
    "    if x*aOrig+y*bOrig==d:\n",
    "        return [d,x,y]\n",
    "    elif (-x)*aOrig+y*bOrig==d:\n",
    "        return [d,-x,y]\n",
    "    elif x*aOrig+(-y)*bOrig==d:\n",
    "        return [d,x,-y]\n",
    "    elif (-x)*aOrig+(-y)*bOrig==d:\n",
    "        return [d,-x,-y]\n",
    "    elif y*aOrig+x*bOrig==d:\n",
    "        return [d,y,x]\n",
    "    elif (-y)*aOrig+x*bOrig==d:\n",
    "        return [d,-y,x]\n",
    "    elif y*aOrig+(-x)*bOrig==d:\n",
    "        return [d,y,-x]\n",
    "    elif (-y)*aOrig+(-x)*bOrig==d:\n",
    "        return [d,-y,-x]"
   ]
  },
  {
   "cell_type": "markdown",
   "metadata": {},
   "source": [
    "Here we go through an example of both of the above methods.  "
   ]
  },
  {
   "cell_type": "code",
   "execution_count": null,
   "metadata": {},
   "outputs": [],
   "source": [
    "print(gcd(-339348,5423493))\n",
    "print(gcd_full(-339348,5423493))"
   ]
  },
  {
   "cell_type": "markdown",
   "metadata": {},
   "source": [
    "The output of the above cell tells us that\n",
    "\n",
    "$$ \\gcd(-339348,5423493)=3 $$\n",
    "\n",
    "and that\n",
    "\n",
    "$$ -339348(-146412)+5423493(-9161)=3 $$"
   ]
  }
 ],
 "metadata": {
  "kernelspec": {
   "display_name": "SageMath 9.0",
   "language": "sage",
   "name": "sagemath"
  },
  "language_info": {
   "codemirror_mode": {
    "name": "ipython",
    "version": 3
   },
   "file_extension": ".py",
   "mimetype": "text/x-python",
   "name": "python",
   "nbconvert_exporter": "python",
   "pygments_lexer": "ipython3",
   "version": "3.8.10"
  }
 },
 "nbformat": 4,
 "nbformat_minor": 4
}
