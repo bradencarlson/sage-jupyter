{
 "cells": [
  {
   "cell_type": "markdown",
   "metadata": {},
   "source": [
    "# Repeated Squares\n",
    "\n",
    "In this document, we discuss the Repeated Squares algorithm, and we discuss one method of implementing this algorithm in SageMath.  Of course, SageMath already contains a function that can perform these operations for us, but this will give us some insight on how a program might perform operations such as\n",
    "\n",
    "$$ a^b \\mod n $$\n",
    "\n",
    "Where both $b$ and $n$ are very large numbers.  The repeated Squares algorithm goes as follows:\n",
    "\n",
    "First we need to write $b$ in binary, assume that \n",
    "\n",
    "$$ b=b_n 2^n+b_{n-1}2^{n-1}+\\cdots +b_12+b_0 $$\n",
    "\n",
    "Where $b_i=0,1$.  Then we compute each of the following:\n",
    "\n",
    "\\begin{align*}\n",
    "a \\mod n\\\\\n",
    "a^2 \\mod n \\\\\n",
    "(a^2)^2=a^4 \\mod n\\\\\n",
    "(a^4)^2=a^8 \\mod n\\\\\n",
    "\\vdots\\\\\n",
    "a^{2^n}\\mod n\n",
    "\\end{align*}\n",
    "\n",
    "Then we can compute\n",
    "\n",
    "\\begin{eqnarray*} \n",
    "a^b &=& a^{b_n2^n+\\cdots+b_12+b_0}\\\\\n",
    "&\\equiv& \\left(a^{2^n}\\right)^{b_n} \\left(a^{2^{n-1}}\\right)^{b_{n-1}}\\cdots \\left(a^{2}\\right)^{b_1}\\left(a\\right)^{b_0}\\mod n\n",
    "\\end{eqnarray*}\n",
    "\n",
    "Note that during the repeated squares process above, since we can reduce after each step, we never need to deal with any number greater than $n^2-1$.  Thus the final multiplication is managable also reducing at each step.\n",
    "\n",
    "Now we will go into how to write a program that can perform this operation in a reasonable amount of time. We will first go into how to write the number $b$ in binary.  We note that by the Division Algorithm, we can write\n",
    "\n",
    "$$ b = 2q_0+b_0 \\quad\\text{where}\\quad b_0\\in\\{0,1\\} $$\n",
    "\n",
    "Then we could write \n",
    "\n",
    "$$ q_0=2q_1+b_1 \\quad\\text{where}\\quad b_1\\in \\{0,1\\} $$\n",
    "\n",
    "And this gives rise to the equation \n",
    "\n",
    "$$ b = 2^2q_1+2b_1+b_0 \\quad\\text{where}\\quad b_i\\in\\{0,1\\}$$\n",
    "\n",
    "Continuing this process will give rise to the digits of $b$ in binary, until eventually we reach some $q_n=0$, then the process is complete.  Thus the last digit of $b$ in binary is simply the remainder of $b/2$.  Then if we take the quotient from $b/2$, the next digit is obtained by taking the remainder of the quotient $q_0/2$, and so on.  We demonstrate this in the following code."
   ]
  },
  {
   "cell_type": "code",
   "execution_count": null,
   "metadata": {},
   "outputs": [],
   "source": [
    "def to_binary(b: int):\n",
    "    # if there is a negative number, return an error\n",
    "    if b < 0:\n",
    "        return \"Please enter positive numbers\"\n",
    "    # otherwise, continue to compute the number in binary\n",
    "    else:\n",
    "        # define a new list that will hold all the digits of b in binary\n",
    "        binary = []\n",
    "        # define a new variable to represent the quotient, and set\n",
    "        # it to one so we actually enter the next while loop\n",
    "        q = 1\n",
    "        # while the quotient is nonzero...\n",
    "        while q!=0:\n",
    "            # find the quotient of b/2\n",
    "            q = floor(b/2)\n",
    "            # as well as the remainder\n",
    "            r = b % 2\n",
    "            # take the remainder to be the digit of b in\n",
    "            # binary that we need\n",
    "            binary.append(r)\n",
    "            # then set b to be the quotient\n",
    "            b = q\n",
    "        # return the list that contains the digits of b in binary\n",
    "        return binary"
   ]
  },
  {
   "cell_type": "code",
   "execution_count": null,
   "metadata": {},
   "outputs": [],
   "source": [
    "print(to_binary(13756829))"
   ]
  },
  {
   "cell_type": "markdown",
   "metadata": {},
   "source": [
    "NOTE: This function returns the binary digits backwards, that is $b_0$ is first in the list.  This is done for a reason, which we will see later.  Thus the output of the cell above tells us that \n",
    "\n",
    "$$ 13756829 = (110100011110100110011101)_2 $$\n",
    "\n",
    "Now we will see the Repeated Squares algorithm in full.  "
   ]
  },
  {
   "cell_type": "code",
   "execution_count": null,
   "metadata": {},
   "outputs": [],
   "source": [
    "def bin_exp(a: int, b: int, n: int):\n",
    "    # test to ensure all values are positive.\n",
    "    if a<0 or b<0 or n<0:\n",
    "        return \"Please enter positive integers only.\"\n",
    "    else:\n",
    "        # create a new list to hold b in binary\n",
    "        binary = []\n",
    "        # define quotient to be 1 so we enter the while loop\n",
    "        q = 1\n",
    "        # compute b in binary and save the result in reverse in binary list\n",
    "        while q!=0:\n",
    "            q = floor(b/2)\n",
    "            r = b % 2\n",
    "            binary.append(r)\n",
    "            b = q\n",
    "        # define a new list, that currently contains one value: a mod n\n",
    "        squares = [a % n]\n",
    "        # up to the length of b in binary, append a^2, a^4, a^8, ... onto the \n",
    "        # end of the list, this is done by taking the previous value and squaring\n",
    "        # it, then reducing mod n\n",
    "        for i in range(1,len(binary)):\n",
    "            squares.append(squares[i-1]^2 % n)\n",
    "        # define a variable to hold the final result\n",
    "        result = 1\n",
    "        # go through the list of squares, and if the corresponding binary digit is 1, \n",
    "        # then multiply it into the result, and then reduce mod n.\n",
    "        for i in range(0,len(squares)):\n",
    "            if binary[i]==1:\n",
    "                result = (result * squares[i]) % n\n",
    "        # return the final result\n",
    "        return result"
   ]
  },
  {
   "cell_type": "markdown",
   "metadata": {},
   "source": [
    "Here we go through an example, once using the new function that we have just defined, another using the aritmetic capabilities of SageMath, and we note that the results agree."
   ]
  },
  {
   "cell_type": "code",
   "execution_count": null,
   "metadata": {},
   "outputs": [],
   "source": [
    "print(bin_exp(2492872,203583,983))\n",
    "print(2492872^203583 % 983)"
   ]
  }
 ],
 "metadata": {
  "kernelspec": {
   "display_name": "SageMath 9.0",
   "language": "sage",
   "name": "sagemath"
  },
  "language_info": {
   "codemirror_mode": {
    "name": "ipython",
    "version": 3
   },
   "file_extension": ".py",
   "mimetype": "text/x-python",
   "name": "python",
   "nbconvert_exporter": "python",
   "pygments_lexer": "ipython3",
   "version": "3.8.10"
  }
 },
 "nbformat": 4,
 "nbformat_minor": 4
}
