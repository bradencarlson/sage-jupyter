{
 "cells": [
  {
   "cell_type": "markdown",
   "metadata": {},
   "source": [
    "# Quotient Rings\n",
    "\n",
    "Here we will explore some of the implementation of Quotient Rings in SageMath.  We assume that the reader is familiar with the structure of quotient rings, as well as rings in general.  We will deal mostly with Polynomial rings. We can define quotient rings using the `.quotient_ring()` function, here is an example:"
   ]
  },
  {
   "cell_type": "code",
   "execution_count": null,
   "metadata": {},
   "outputs": [],
   "source": [
    "R.<x> = PolynomialRing(GF(5))\n",
    "Q.<y> = R.quotient_ring(x^5+2*x)\n",
    "p = Q(y^3-y)\n",
    "q = Q(y-4)\n",
    "p*q"
   ]
  },
  {
   "cell_type": "markdown",
   "metadata": {},
   "source": [
    "Note that again, the indeterminant is important, as this is how SageMath recongnizes that any given polynomial belongs to the polynomial ring.  As another example, pulled from the section on Polynomial codes in this class, is \n",
    "given as follows:"
   ]
  },
  {
   "cell_type": "code",
   "execution_count": null,
   "metadata": {},
   "outputs": [],
   "source": [
    "Z.<y> = PolynomialRing(GF(2))\n",
    "\n",
    "Z2.<x> = Z.quotient_ring(y^15+1)\n",
    "p = Z2(1+x^4+x^6+x^7)\n",
    "q = Z2(1+x+x^4+x^5+x^6+x^9)\n",
    "p*q"
   ]
  },
  {
   "cell_type": "markdown",
   "metadata": {},
   "source": [
    "Here is another example of a quotient ring."
   ]
  },
  {
   "cell_type": "code",
   "execution_count": null,
   "metadata": {},
   "outputs": [],
   "source": [
    "Z5 = ZZ.quotient_ring(5)\n",
    "Z5"
   ]
  },
  {
   "cell_type": "markdown",
   "metadata": {},
   "source": [
    "By the First Isomorphism Theorem for Rings, this quotient ring is isomorphic to $\\mathbb{Z}_5$. In this project, we \n",
    "will make the most use of Polynomial Rings in one indeterminant. "
   ]
  }
 ],
 "metadata": {
  "kernelspec": {
   "display_name": "SageMath 9.0",
   "language": "sage",
   "name": "sagemath"
  },
  "language_info": {
   "codemirror_mode": {
    "name": "ipython",
    "version": 3
   },
   "file_extension": ".py",
   "mimetype": "text/x-python",
   "name": "python",
   "nbconvert_exporter": "python",
   "pygments_lexer": "ipython3",
   "version": "3.8.10"
  }
 },
 "nbformat": 4,
 "nbformat_minor": 4
}
