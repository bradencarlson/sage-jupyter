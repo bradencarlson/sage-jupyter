{
 "cells": [
  {
   "cell_type": "markdown",
   "metadata": {},
   "source": [
    "# Rings\n",
    "\n",
    "We have already seen many examples of Rings in SageMath, the most common ring that we have used in the \n",
    "`IntegerModRing(n)`.  We can also define other rings, some of the must frequent are \n",
    "* `ZZ` - the ring of Integers\n",
    "* `QQ` - the ring of Rational numbers\n",
    "* `RR` - the ring of Real numbers\n",
    "* `CC` - the ring of Complex numbers\n",
    "Another common ring construction is to take a ring $R$, and adjoin an ideterminant to form a polynomal ring.  This \n",
    "is done by writing:\n",
    "```\n",
    "RX.<x> = PolynomialRing(R)\n",
    "```\n",
    "where $RX$ is the variable name, which can be changed, $x$ is the variable that we adjoin, and $R$ is the ring that \n",
    "was previously selected. Here is an example."
   ]
  },
  {
   "cell_type": "code",
   "execution_count": null,
   "metadata": {},
   "outputs": [],
   "source": [
    "RX.<x> = PolynomialRing(QQ)\n",
    "RX"
   ]
  },
  {
   "cell_type": "markdown",
   "metadata": {},
   "source": [
    "We can also define multivariate polynomial rings by writing\n",
    "```\n",
    "RX.<x,y> = PolynomialRing(R)\n",
    "```\n",
    "where $R$ is a ring.  Note that when we construct these polynomial rings, the indeterminant used has significance, \n",
    "since we might have some code that looks like this:"
   ]
  },
  {
   "cell_type": "code",
   "execution_count": null,
   "metadata": {},
   "outputs": [],
   "source": [
    "R.<x> = PolynomialRing(QQ)\n",
    "S.<z> = PolynomialRing(CC)\n",
    "\n",
    "print(factor(x^2-2))\n",
    "print(factor(z^2-2))"
   ]
  },
  {
   "cell_type": "markdown",
   "metadata": {},
   "source": [
    "These results are different since $x^2-2$ is irreducible over $\\mathbb{Q}[x]$, while it splits over $\\mathbb{C}[x]$. \n",
    "Here is a more interesting example:"
   ]
  },
  {
   "cell_type": "code",
   "execution_count": null,
   "metadata": {},
   "outputs": [],
   "source": [
    "R.<x> = PolynomialRing(IntegerModRing(13))\n",
    "factor(x^2-1)"
   ]
  },
  {
   "cell_type": "markdown",
   "metadata": {},
   "source": [
    "Note that while many polynomial rings can be implemented in sagemath in this manner, if the base ring has a \n",
    "composite characteristic, then we recieve an error if we try to factor a polynomal over that ring.  While we can still create the polynomial ring, we cannot use SageMath to factor polymials over that ring.  \n",
    "There are many other functions that are very useful when useing Sagemath to study rings, some of which are:\n",
    "* `is_commutative()`\n",
    "* `is_field()`\n",
    "* `is_ring()`\n",
    "* `is_finite()`\n",
    "* `is_integral_domain()`\n",
    "* `is_unique_factorization_domain()`\n",
    "* `is_noetherian()`\n",
    "* `extension(p)` - extends the ring by forming the quotient $$ \\frac{R[x]}{\\left<p(x)\\right>}$$\n",
    "* `ideal(e)` - returns the ideal of the element $e$ in $R$\n",
    "* `irreducible_element()`\n",
    "* And many others. "
   ]
  }
 ],
 "metadata": {
  "kernelspec": {
   "display_name": "SageMath 9.7",
   "language": "sage",
   "name": "sagemath"
  },
  "language_info": {
   "codemirror_mode": {
    "name": "ipython",
    "version": 3
   },
   "file_extension": ".py",
   "mimetype": "text/x-python",
   "name": "python",
   "nbconvert_exporter": "python",
   "pygments_lexer": "ipython3",
   "version": "3.10.8"
  }
 },
 "nbformat": 4,
 "nbformat_minor": 4
}
