{
 "cells": [
  {
   "cell_type": "markdown",
   "metadata": {},
   "source": [
    "# Galois Groups\n",
    "\n",
    "Here we will explore Galois Groups in SageMath.  This will require many new functions and classes that we have \n",
    "not yet encountered. Take note of the following \n",
    "* `QuadraticField(a)` forms a field extension over $\\mathbb{Q}$ by adjoining the roots of the polynomial $x^2-a$\n",
    "* `.galois_group()` retuns the Galois Group of a field extension as a permutation group.  This allows us to \n",
    "use what we already know about groups in sagemath to study the Galois Group.\n",
    "* `NumberField(p(x))` forms a field extension over $\\mathbb{Q}$ by adjoining a root of the polynomial $p$.  \n",
    "We start with an example. "
   ]
  },
  {
   "cell_type": "code",
   "execution_count": null,
   "metadata": {},
   "outputs": [],
   "source": [
    "# define a quadratic extension over Q by adjoining sqrt(3)\n",
    "\n",
    "Q.<s> = QuadraticField(-3)\n",
    "\n",
    "# define and print the Galois Group\n",
    "G = Q.galois_group()\n",
    "G.list()"
   ]
  },
  {
   "cell_type": "markdown",
   "metadata": {},
   "source": [
    "There are times where Sage does not want to print out the Galois group, or even produce an element, but can still \n",
    "give us the order of the group, which often helps us to determine what the group is isomorphic to, an example of \n",
    "this follows. "
   ]
  },
  {
   "cell_type": "code",
   "execution_count": null,
   "metadata": {},
   "outputs": [],
   "source": [
    "Q.<alpha> = NumberField(x^5+25*x+10)\n",
    "\n",
    "# print out the degree of the extension\n",
    "print(Q.absolute_degree())\n",
    "\n",
    "# print out the order of the Galois Group\n",
    "G = Q.galois_group('pari')\n",
    "print(G.order())\n",
    "G.gens()"
   ]
  },
  {
   "cell_type": "markdown",
   "metadata": {},
   "source": [
    "## Other Extensions\n",
    "\n",
    "There are a great many advanced topics that one can look into with regard to these field extensions, but \n",
    "we do not do so here.  In this class, we will mostly be concerned with simple extensions, and splitting fields, \n",
    "so we give a few more examples of both of these. "
   ]
  },
  {
   "cell_type": "code",
   "execution_count": null,
   "metadata": {},
   "outputs": [],
   "source": [
    "Q.<a> = QQ.extension(x^3-2)\n",
    "a^3"
   ]
  },
  {
   "cell_type": "code",
   "execution_count": null,
   "metadata": {},
   "outputs": [],
   "source": [
    "Q = QQ.algebraic_closure()\n",
    "pi in Q"
   ]
  },
  {
   "cell_type": "code",
   "execution_count": null,
   "metadata": {},
   "outputs": [],
   "source": [
    "F = FiniteField(8).extension(x^3-1,'a')\n",
    "F.order()"
   ]
  }
 ],
 "metadata": {
  "kernelspec": {
   "display_name": "SageMath 9.0",
   "language": "sage",
   "name": "sagemath"
  },
  "language_info": {
   "codemirror_mode": {
    "name": "ipython",
    "version": 3
   },
   "file_extension": ".py",
   "mimetype": "text/x-python",
   "name": "python",
   "nbconvert_exporter": "python",
   "pygments_lexer": "ipython3",
   "version": "3.8.10"
  }
 },
 "nbformat": 4,
 "nbformat_minor": 4
}
