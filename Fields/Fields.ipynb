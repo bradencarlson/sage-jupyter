{
 "cells": [
  {
   "cell_type": "markdown",
   "metadata": {},
   "source": [
    "# Fields\n",
    "\n",
    "In this part of the project, we will be exploring Fields in SageMath, and some of the functions that are built in \n",
    "to SageMath that help us understand Field Theory.\n",
    "\n",
    "Recall that for the Galois Field of order $p^k$, where $p$ is a prime and $k\\in \\mathbb{Z}$, any field with the same \n",
    "order is isomorphic to this field. In Sage, we implement this as follows."
   ]
  },
  {
   "cell_type": "code",
   "execution_count": null,
   "metadata": {},
   "outputs": [],
   "source": [
    "F = GF(8)"
   ]
  },
  {
   "cell_type": "markdown",
   "metadata": {},
   "source": [
    "We can also define a Finite Field another way, similar to field obtained when considering the ring $\\mathbb{Z}_2[x]$ and modding out by the principle ideal $\\left<x^3+x+1\\right>$, which is \n",
    "$$ GF(8) = \\frac{\\mathbb{Z}_2[x]}{\\left<x^3+x+1\\right>}$$\n",
    "Since this is a degree 3 extension.  We can see this by writing the following \n",
    "```\n",
    "F = GF(2^3,'a')\n",
    "```\n",
    "Then printing out each element of $F$.  This is shown in the next cell. \n"
   ]
  },
  {
   "cell_type": "code",
   "execution_count": null,
   "metadata": {},
   "outputs": [],
   "source": [
    "F = GF(2^3,'a')\n",
    "for i in F:\n",
    "    print(i)"
   ]
  },
  {
   "cell_type": "markdown",
   "metadata": {},
   "source": [
    "This can also be done in the following manner:"
   ]
  },
  {
   "cell_type": "code",
   "execution_count": null,
   "metadata": {},
   "outputs": [],
   "source": [
    "F.<a> = FiniteField(8)\n",
    "for i in F:\n",
    "    print(i)"
   ]
  },
  {
   "cell_type": "markdown",
   "metadata": {},
   "source": [
    "There are a number of usefull methods that are predefined for us while dealing with these finite fields.  Among these are:\n",
    "\n",
    "* `.modulus()` -  returns the modulus of the Field\n",
    "* `.multiplicative_order()` - returns the multiplicative order of an element of the Field, to only be used on specific elements of the field. \n",
    "* `factor()` - we will see an example of this is a minute, for this to work, we need to define our fields in the second manner described above. "
   ]
  },
  {
   "cell_type": "code",
   "execution_count": null,
   "metadata": {},
   "outputs": [],
   "source": [
    "print(f\"The modulus of the field F: {F.modulus()}\")\n",
    "print(f\"The multiplicative order of the element a: {a.multiplicative_order()}\")"
   ]
  },
  {
   "cell_type": "markdown",
   "metadata": {},
   "source": [
    "To factor over a finite field, as mentioned before, we must define the field with an indeterminant, then, specifying a polynomial over that indeterminant, we can use the `factor()` function to factor that polynomial over the finite field.  To see an example of this, consider the following:"
   ]
  },
  {
   "cell_type": "code",
   "execution_count": null,
   "metadata": {},
   "outputs": [],
   "source": [
    "F.<a> = GF(8)\n",
    "factor(a^3+a^2)"
   ]
  }
 ],
 "metadata": {
  "kernelspec": {
   "display_name": "SageMath 9.0",
   "language": "sage",
   "name": "sagemath"
  },
  "language_info": {
   "codemirror_mode": {
    "name": "ipython",
    "version": 3
   },
   "file_extension": ".py",
   "mimetype": "text/x-python",
   "name": "python",
   "nbconvert_exporter": "python",
   "pygments_lexer": "ipython3",
   "version": "3.8.10"
  }
 },
 "nbformat": 4,
 "nbformat_minor": 4
}
