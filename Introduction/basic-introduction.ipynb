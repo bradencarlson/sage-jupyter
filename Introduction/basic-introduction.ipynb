{
 "cells": [
  {
   "cell_type": "markdown",
   "metadata": {},
   "source": [
    "# Using SageMath "
   ]
  },
  {
   "cell_type": "markdown",
   "metadata": {},
   "source": [
    "## Commands and Operators"
   ]
  },
  {
   "cell_type": "markdown",
   "metadata": {},
   "source": [
    "This will be a basic introduction to SageMath, and its syntax, to provide us the tools we will need to study some Abstract Algebra.  First of all, each input and output box is referred to as a cell.  SageMath will only run one cell at a time unless instructed to do otherwise. All SageMath code is run in the Sage kernel, which can be used outside of Jupyter Notebooks, although Jupyter provides us with a good environment to develop our understanding, so we will be using Jupyter Notebooks.\n",
    "\n",
    "In Sage, if a cell has a box around it with a blue tab on the left side, this means we have selected that cell in Command mode, while if a cell has a box around it with a green tab on the left side, this indicates that we have selected that cell in Edit mode.  If we are in Command mode (blue), we can use the keys `j` and `k` to move our selection down and up, respectively (the arrow keys also work).  We need to be very careful though, while in Command mode, the command `dd` will delete the current cell and Sage will not ask you if you are sure that you want to delete it.  For this reason, I recommend using the command `ctrl + S` frequently, which creates a checkpoint, just in case we make any mistakes.  There are many keyboard commands that you could accidentally type while in Command mode,  click on `help` and then `keyboard shortcuts` to see more.  If at any point, we accidentally delete somthing, we can open `file` and then select `revert to checkpoint` to undo any changes since the last checkpoint.  \n",
    "\n",
    "When we open a document that we have already created, the SageMath kernel does not remember anything that we have already written in the document, each cell must be run again if the kernel is to use any information contained in that cell.  For example, in the next cell, we define a varible `x = 56`, then in the following cell, we use the `print` function to print out the value of `x`.  While in Command mode, use the command `Ctrl+Enter` to run the following two cells to see this in action. \n",
    "\n",
    "Note: If in Command mode, to enter Edit mode, hit `Enter`, if in Edit mode, to enter Command mode, hit `Esc`."
   ]
  },
  {
   "cell_type": "code",
   "execution_count": null,
   "metadata": {},
   "outputs": [],
   "source": [
    "x = 56\n",
    "print(x)"
   ]
  },
  {
   "cell_type": "markdown",
   "metadata": {},
   "source": [
    "If done correctly, we should now see the number 56 below the statement `print(x)`.  Here we introduce a few more operators that we will use frequenly, `=`, `+`, `-`, `*`, `/`, `%`, and `//`.  Most of these work how we would expect them to. That is, `+` is addition, `-` is subtraction, and `*` and `/` are multiplication and division.  In Sage, the `=` operator is not used as a statement of equality, but rather as an assignment.  Take for example the code above, this cell **assigns** the variable `x` the value of 56, we will see many examples of this and use it often.  The `%` operator gives us the residue mod *n* of a number.  The `//` operator will give us the quotient when one number is divided by the other.  For example:"
   ]
  },
  {
   "cell_type": "code",
   "execution_count": null,
   "metadata": {},
   "outputs": [],
   "source": [
    "x = 103454\n",
    "y = 34865\n",
    "print(f\"The sum of {x} and {y} is {x+y}\")\n",
    "print(f\"x/y = {x/y}\")\n",
    "print(f\"x mod y = {x%y}\")\n",
    "print(f\"The quotient when x is divided by y is {x//y}\")"
   ]
  },
  {
   "cell_type": "markdown",
   "metadata": {},
   "source": [
    "You may notice in the code above that in the print statements, although we type statments such as `x//y`, we do not see the literal characters \"x//y\" print out to the screen, but rather the value of the calculation.  This is due to String formatting in Python.  If you are familiar with Python, first of all this introduction must seem pretty dull, but the syntax of the code will be pretty much the same, although we will see in the future some things that we can use in SageMath that are not readily available to us in Python.  When we wish to format a String in Python (or in SageMath), one way of doing so is to put the letter `f` in front of the string itself, and then any variable that we place in brackets in the string will be formatted as its value.  For example, the code\n",
    "\n",
    "> x = 56  \n",
    "> print(f\"The value of x is {x}\")\n",
    "\n",
    "will print out \"The value of x is 56\" becuase the second `x` is placed in brackets.\n",
    "\n",
    "At any point in this brief introduction to the syntax of SageMath, to practice or experiment with the commands we are discussing, while in Command mode we can use the commands `a` or `b` to place a new cell `a`bove or `b`elow the selected cell so that you have a new environment to enter Edit mode and write your code. \n",
    "\n",
    "Exponents in SageMath are implemented with the `^` command.  See below."
   ]
  },
  {
   "cell_type": "code",
   "execution_count": null,
   "metadata": {},
   "outputs": [],
   "source": [
    "print(2^8)"
   ]
  },
  {
   "cell_type": "markdown",
   "metadata": {},
   "source": [
    "Here are a few more examples of performing basic arithmetic in SageMath.  Remember at any time, while in Command mode, you can press the buttons `a` or `b` to create a new cell, then press `enter` to edit that cell to practice on your own."
   ]
  },
  {
   "cell_type": "code",
   "execution_count": null,
   "metadata": {},
   "outputs": [],
   "source": [
    "x = 10^500\n",
    "print(x/6.745)"
   ]
  },
  {
   "cell_type": "code",
   "execution_count": null,
   "metadata": {},
   "outputs": [],
   "source": [
    "x = 5.67\n",
    "y = 3.45423\n",
    "z = 9.3861\n",
    "\n",
    "total = x + y + z\n",
    "average = total/3\n",
    "\n",
    "print(f\"The average of these three numbers is {average}\")"
   ]
  },
  {
   "cell_type": "markdown",
   "metadata": {},
   "source": [
    "It is important to know that Python (and by extension, SageMath) follows the order of operations.  Thus if we run the code \n",
    " \n",
    "> 5+4\\*3-(10+4)\\*\\*2\n",
    "\n",
    "We would get exactly what we would expect to, since Python knows what we mean when we type this in.\n"
   ]
  },
  {
   "cell_type": "code",
   "execution_count": null,
   "metadata": {},
   "outputs": [],
   "source": [
    "5+4*3-(10+4)**2"
   ]
  },
  {
   "cell_type": "markdown",
   "metadata": {},
   "source": [
    "This is important to know, although we may not use it much in our study of Abstract Algebra. \n",
    "\n",
    "Another thing to note, in Python, we are allowed to perform multiple assignments at once.  We will demonstrate with the following code."
   ]
  },
  {
   "cell_type": "code",
   "execution_count": null,
   "metadata": {},
   "outputs": [],
   "source": [
    "x, y, z = 1, 5, 6\n",
    "\n",
    "print(x)\n",
    "print(y)\n",
    "print(z)"
   ]
  },
  {
   "cell_type": "markdown",
   "metadata": {},
   "source": [
    "We can see that the line \n",
    "\n",
    "> x, y, z = 1, 5, 6\n",
    "\n",
    "assigns $x\\rightarrow 1$, $y\\rightarrow 5$, and $z\\rightarrow 6$, in the order that they were declared.  This is useful for writing compact code.  "
   ]
  },
  {
   "cell_type": "markdown",
   "metadata": {},
   "source": [
    "#### Comments\n",
    "\n",
    "We will use many, many comments.  Comments help us to understand what code is doing (both others' code and our own when looking back on it).  Most of the code here in this project will have comments or commentary to go along with it.  To write a comment in our code in Python, or in SageMath, we use the `#` symbol.  This tells the Python interpreter that the line following that symbol is not code and does not need to be run.  See the following code for an example. "
   ]
  },
  {
   "cell_type": "code",
   "execution_count": null,
   "metadata": {},
   "outputs": [],
   "source": [
    "# This line is a comment\n",
    "x, y = 1, 2\n",
    "\n",
    "# here we print out the values of x and y\n",
    "print(x, \" \", y)\n",
    "\n",
    "# change the value of x to be 17\n",
    "x = 17\n",
    "\n",
    "# print out the new value of x\n",
    "print(x)"
   ]
  },
  {
   "cell_type": "markdown",
   "metadata": {},
   "source": [
    "## Types of Data"
   ]
  },
  {
   "cell_type": "markdown",
   "metadata": {},
   "source": [
    "In SageMath (and any other object oriented programming language), any kind of data or information we put into the code is assigned (or rather declared) as a type of object.  To see this in action, run the code below and observe the output."
   ]
  },
  {
   "cell_type": "code",
   "execution_count": null,
   "metadata": {},
   "outputs": [],
   "source": [
    "x = 56\n",
    "print(type(x))"
   ]
  },
  {
   "cell_type": "markdown",
   "metadata": {},
   "source": [
    "We should see the text \"<class 'sage.rings.integer.Integer'>\" below the cell above.  If using SageMath as a simple calculator such as the examples above, one does not need to worry about this much, but we will see later on, that this will be very important to us in our study of Abstract Algebra, since different types of objects are often not compatible with one another.  We can see this in the next example, try to run the following code."
   ]
  },
  {
   "cell_type": "code",
   "execution_count": null,
   "metadata": {},
   "outputs": [],
   "source": [
    "x = 56\n",
    "y = \"hello\"\n",
    "print(f\"The type of x is {type(x)} and the type of y is {type(y)}\")\n",
    "x+y"
   ]
  },
  {
   "cell_type": "markdown",
   "metadata": {},
   "source": [
    "We should see that the `print` statement runs just fine, but since x is an Integer object while y is a 'str' (short for String) object, we should see an error message, which will give us information about where the error happened, as well as a summary of the error in the last line, which should read \"TypeError: unsupported operand parent(s) for +: 'Integer Ring' and <class 'str'>'\".  \n",
    "\n",
    "Be careful when writting your own code in SageMath, if you are not careful with what types of data you are working with, your code may not run as expected, or at all.  There are many different types of data available to us\n",
    "\n",
    "* str\n",
    "* Integer Ring\n",
    "* Lists\n",
    "* Matrices\n",
    "* and many others\n",
    "\n",
    "Above, we see that lists are a data type that we are able to use.  These are very useful and they are defined by enclosing the desired information in the list with brackets, each separated by a comma.  See the example below."
   ]
  },
  {
   "cell_type": "markdown",
   "metadata": {},
   "source": [
    "### Lists"
   ]
  },
  {
   "cell_type": "code",
   "execution_count": null,
   "metadata": {},
   "outputs": [],
   "source": [
    "y = [1,4,3,23,4,32,5]\n",
    "print(y)\n",
    "print(type(y))"
   ]
  },
  {
   "cell_type": "markdown",
   "metadata": {},
   "source": [
    "We can then access individual elements of the list by typing commands such as\n",
    "\n",
    "> y = [2,3,3,2]  \n",
    "> print(y[0])  \n",
    "> y[0] = 5  \n",
    "> print(y)\n",
    "\n",
    "which will print out the first element of y, which is 2, then will change the first element of y to 5, then will print the list y.  Note that the first element of a list is in spot zero, not one.  Also, attempting to access an invalid index of a list will result in an error.  For example, try to run the following code."
   ]
  },
  {
   "cell_type": "code",
   "execution_count": null,
   "metadata": {},
   "outputs": [],
   "source": [
    "y = [1,10,30,40] # spots 0,1,2,3 are available\n",
    "print(y[4])"
   ]
  },
  {
   "cell_type": "markdown",
   "metadata": {},
   "source": [
    "At this point, we might be tempted to try something such as multiplying all of the elements in a list by some number, much as we would with a vector, run the following code and notice that no error messages are given."
   ]
  },
  {
   "cell_type": "code",
   "execution_count": null,
   "metadata": {},
   "outputs": [],
   "source": [
    "x = [2,4,6,8]\n",
    "y = 2*x"
   ]
  },
  {
   "cell_type": "markdown",
   "metadata": {},
   "source": [
    "Although nothing went wrong during runtime, this code did not do what we thought it would, to see this, let's find out what is being stored in `y`."
   ]
  },
  {
   "cell_type": "code",
   "execution_count": null,
   "metadata": {},
   "outputs": [],
   "source": [
    "print(y)"
   ]
  },
  {
   "cell_type": "markdown",
   "metadata": {},
   "source": [
    "We should see two copies of the list `x`, one after the other, stored in `y`.  So it did not multiply each element by 2, but rather, made two copies of the list!  Take some time to experiment with lists, for we will see these often in our study of Abstract Algebra.\n",
    "\n",
    "There are many predefined methods that we have access to from Python while using lists.  For example, in addition to changing the content of lists by using an index, as so:\n",
    "\n",
    "> x = [1, 2, 3]  \n",
    "> x[1] = 4\n",
    "\n",
    "We can also append elements onto the end of a list.  We do this by calling the `.append()` method, like so:"
   ]
  },
  {
   "cell_type": "code",
   "execution_count": null,
   "metadata": {},
   "outputs": [],
   "source": [
    "x = [1, 2, 3]\n",
    "print(f\"The original value of x: {x}\")\n",
    "\n",
    "# add two new elements to the end of the list\n",
    "x.append(4)\n",
    "x.append(5)\n",
    "print(f\"The new value of x: {x}\")"
   ]
  },
  {
   "cell_type": "markdown",
   "metadata": {},
   "source": [
    "In addition to appending elements to the end of the list, we can also insert elements into any spot we wish, using the `.insert()` method.  This method requires two parameters, first, the position of the new element, and second, the new element itself.  See the following example."
   ]
  },
  {
   "cell_type": "code",
   "execution_count": null,
   "metadata": {},
   "outputs": [],
   "source": [
    "x = [\"Cars\", \"are\", \"cool\"]\n",
    "\n",
    "# add a new word to our list\n",
    "x.insert(2,\"not\")\n",
    "\n",
    "# print out the new list\n",
    "print(x)"
   ]
  },
  {
   "cell_type": "markdown",
   "metadata": {},
   "source": [
    "Notice again that the first spot in a list is at index zero, not one.  So to make the word \"not\" the third element of the list, we use the index 2. Take some time to practice using lists to familiarize yourself with this concept.  \n",
    "\n",
    "So far, we have discussed adding more elements into our lists.  Now we will discuss removing elements from our lists.  We have a few ways of doing so:\n",
    "\n",
    "* The `del` operator\n",
    "* The `.pop()` method\n",
    "* The `.remove()` method\n",
    "\n",
    "We will first discuss the `del` operator.  Say we have a list, and we wish to remove the element in the second spot, we can do so without knowing what is in that spot as follows:"
   ]
  },
  {
   "cell_type": "code",
   "execution_count": null,
   "metadata": {},
   "outputs": [],
   "source": [
    "x = [4, \"Hello\", 4, 1, 8]\n",
    "\n",
    "# remove the string \"Hello\" from the list\n",
    "del x[1]\n",
    "\n",
    "# print out x\n",
    "print(x)"
   ]
  },
  {
   "cell_type": "markdown",
   "metadata": {},
   "source": [
    "Just as the `.append()` method adds a new element to the end of the list, the `.pop()` element takes an element off the end of the list.  There is something else happening with the `.pop()` method as well though, this method has a `return` value, something we will discuss more in the future.  This means that if we wish to use that element that this method takes off the end of the array, we can use the `.pop()` method to assign its value elsewhere.  See the following example."
   ]
  },
  {
   "cell_type": "code",
   "execution_count": null,
   "metadata": {},
   "outputs": [],
   "source": [
    "x = [45, 65, 23, 12,76, 92, 37, 19]\n",
    "# take the last value of x and assign it to y\n",
    "y = x.pop()\n",
    "\n",
    "# print out x and y\n",
    "print(x)\n",
    "print(y)"
   ]
  },
  {
   "cell_type": "markdown",
   "metadata": {},
   "source": [
    "Finally, similar to the `.insert()` method, the `.remove()` method takes an element out of our list, even if we do not know the index that belongs to it.  Note that if multiple instances of the same element exist in the list, `.remove()` will remove only the first one.  For example, run the following code."
   ]
  },
  {
   "cell_type": "code",
   "execution_count": null,
   "metadata": {},
   "outputs": [],
   "source": [
    "x = [\"hello\", 45, 23, 2, 4, 90, 45, 23, \"hello\"]\n",
    "\n",
    "# remove the first instance of the number 23\n",
    "x.remove(23)\n",
    "\n",
    "# print out x\n",
    "print(x)"
   ]
  },
  {
   "cell_type": "markdown",
   "metadata": {},
   "source": [
    "There is much to learn about many different data types and how the all play together.  This document mainly uses the part of SageMath that is inherited from Python, with the notable exception of the Integer Ring class that we have been introduced to.  For more information about data types in Python please see [Python Data Types](https://www.w3schools.com/python/python_datatypes.asp) by W3Schools."
   ]
  }
 ],
 "metadata": {
  "kernelspec": {
   "display_name": "SageMath 9.0",
   "language": "sage",
   "name": "sagemath"
  },
  "language_info": {
   "codemirror_mode": {
    "name": "ipython",
    "version": 3
   },
   "file_extension": ".py",
   "mimetype": "text/x-python",
   "name": "python",
   "nbconvert_exporter": "python",
   "pygments_lexer": "ipython3",
   "version": "3.8.10"
  }
 },
 "nbformat": 4,
 "nbformat_minor": 4
}
