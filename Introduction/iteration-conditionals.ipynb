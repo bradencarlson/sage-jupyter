{
 "cells": [
  {
   "cell_type": "markdown",
   "metadata": {},
   "source": [
    "# Iteration and Conditionals"
   ]
  },
  {
   "cell_type": "markdown",
   "metadata": {},
   "source": [
    "## Loops and Iteration"
   ]
  },
  {
   "cell_type": "markdown",
   "metadata": {},
   "source": [
    "Previously, we saw how to declare lists for our use, and how to access their elements.  In our study of Abstract Algebra, there will be many situations where we need to perform an operation many times on many different elements.  One example of this that we will see in the future is computing a Coset of a subgroup with respect to an element in a given group.  For now we will deal with simpler examples.  Consider the list defined below.  If we want to add all the elements of this list together and print out the sum, we could define a new variable called `total`, then use a `for` loop to iterate over each element in the list. Run the next cell."
   ]
  },
  {
   "cell_type": "code",
   "execution_count": null,
   "metadata": {},
   "outputs": [],
   "source": [
    "# define the list x\n",
    "x = [3,5,4,6,5]\n",
    "\n",
    "# define the new variable, total\n",
    "total = 0\n",
    "\n",
    "# use a for loop to go through each element in the list\n",
    "for item in x:\n",
    "    # for each element in the list, take the current total, add\n",
    "    # the value of item to it, then store that new value in the \n",
    "    # variable total\n",
    "    total = total + item\n",
    "    \n",
    "# when its done, print out the total\n",
    "print(total)"
   ]
  },
  {
   "cell_type": "markdown",
   "metadata": {},
   "source": [
    "There are several new ideas in the cell above.  First of all, `for item in x` is the declaration of the `for` loop.  This tells the program to do some set of actions for each element in the list `x`.  The set of actions that we wish the program to execute for each element in the list `x` is denoted by an indented block of code.  So notice that since the `print(total)` statement is not indented, it is not executed by the for loop, but rather, the program waits until the for loop is finished to execute that line of code.  This same code could have been executed in a different, but similar, way, as follows."
   ]
  },
  {
   "cell_type": "code",
   "execution_count": null,
   "metadata": {},
   "outputs": [],
   "source": [
    "# define the list x\n",
    "x = [3,5,4,6,5]\n",
    "\n",
    "# define the new variable total\n",
    "total = 0\n",
    "\n",
    "# use a for loop to go through each element in the list\n",
    "for i in range(0,len(x)):\n",
    "    total = total + x[i]\n",
    "    \n",
    "# print out the total\n",
    "print(total)"
   ]
  },
  {
   "cell_type": "markdown",
   "metadata": {},
   "source": [
    "Very similar, but the notable difference is in the syntax of the `for` loop.  This code uses an index to access the items in the list `x` rather than telling the interpreter to access them directly.  That being so, we must tell the program which values of `i` we want it to use.  The command `range(0,len(x))` is how we accomplish this.  This command creates a new list of integers from and including zero, to but not including `len(x)`, which is the length of `x`, in this case 5.  There will situations where one of these methods is advantageous over the other, depending on what our code needs to do.  \n",
    "\n",
    "There are other types of ways to perform iteration, such as the while loop, but in this project, we will gain the most mileage out of the for loop.  For more information about how to use loops, please visit [Python For Loops](https://www.w3schools.com/python/python_for_loops.asp)"
   ]
  },
  {
   "cell_type": "markdown",
   "metadata": {},
   "source": [
    "## Conditional Statements"
   ]
  },
  {
   "cell_type": "markdown",
   "metadata": {},
   "source": [
    "Being students of mathematics, conditional statements and logic come up frequently.  Python provides a rich set of options that we can use to implement some logic in our code as we go through some of the topics in Abstract Algebra. Consider the following cell."
   ]
  },
  {
   "cell_type": "code",
   "execution_count": null,
   "metadata": {},
   "outputs": [],
   "source": [
    "x = 1000\n",
    "\n",
    "if x > 500:\n",
    "    print(f\"{x} is greater than 500\")\n",
    "else:\n",
    "    print(f\"{x} is less than 500\")"
   ]
  },
  {
   "cell_type": "markdown",
   "metadata": {},
   "source": [
    "The second print statement is not evaluated at all, because the conditions for that block of code are not satisfied.  This allows us alot of options when we are using Sage, for example, we will see this when we test to see if two groups are isomorphic, or if two cosets are equal to each other.  Another way we can implement conditional logic is the following."
   ]
  },
  {
   "cell_type": "code",
   "execution_count": null,
   "metadata": {},
   "outputs": [],
   "source": [
    "x = [3,5,4,1,3,4,5,3,2,4,3,5,7,5,4,3,5,4,2,3,6,4,1,3,3,2]\n",
    "\n",
    "# define a for loop to see which elements of x are bigger than 5\n",
    "for item in x:\n",
    "    if item > 5:\n",
    "        print(item)"
   ]
  },
  {
   "cell_type": "markdown",
   "metadata": {},
   "source": [
    "We should only see two number print out, since only those two numbers are bigger than 5 in the list.  There are many other ways in which we can use conditional statements to perform certain tasks.  We will have plenty of oportunities to practice with these in the future.  For now, take some time and look over the following code and practice using conditional statements in SageMath."
   ]
  },
  {
   "cell_type": "code",
   "execution_count": null,
   "metadata": {},
   "outputs": [],
   "source": [
    "x = [100,200,309,293,487,293,123,243,198,475,398,847,876,435,321,345,623,546,786,765,487,172]\n",
    "\n",
    "OneHundreds = 0\n",
    "TwoHundreds = 0\n",
    "ThreeHundreds = 0\n",
    "FourHundreds = 0\n",
    "FiveHundreds = 0\n",
    "SixHundreds = 0\n",
    "SevenHundreds = 0\n",
    "EightHundreds = 0\n",
    "NineHundreds = 0\n",
    "\n",
    "for number in x:\n",
    "    if number <= 100:\n",
    "        OneHundreds = OneHundreds + 1\n",
    "    elif number <= 200:\n",
    "        TwoHundreds = TwoHundreds + 1\n",
    "    elif number <= 300:\n",
    "        ThreeHundreds = ThreeHundreds + 1\n",
    "    elif number <= 400:\n",
    "        FourHundreds = FourHundreds + 1\n",
    "    elif number <= 500:\n",
    "        FiveHundreds = FiveHundreds + 1\n",
    "    elif number <= 600:\n",
    "        SixHundreds = SixHundreds + 1\n",
    "    elif number <= 700:\n",
    "        SevenHundreds = SevenHundreds + 1\n",
    "    elif number <= 800:\n",
    "        EightHundreds = EightHundreds + 1\n",
    "    elif number <= 900:\n",
    "        NineHundreds = NineHundreds + 1\n",
    "    else:\n",
    "        print(\"Number too large.\")\n",
    "        \n",
    "print(f\"total between 400 and 500: {FourHundreds}\")"
   ]
  },
  {
   "cell_type": "markdown",
   "metadata": {},
   "source": [
    "One might think this code has the mistake that if the current number being considered is 102, then the conditions for all but the first conditional statement are true, and thus the number would be counted multiple times by the program.  This is not so because the `if..elif..else` statement works together as one conditional statement (`elif` is short for \"else if\").  Once one of the conditions has been met, none of the others are considered.  So for the number 102, the first condition (number <= 100) is not satisfied, but the second one is, thus it is counted with the `TwoHundreds`, and since one of the conditions was already met, while the rest are true, they are not considered, thus giving us the correct counts at the end. \n",
    "\n",
    "W3Schools has a great introduction to `if..else` command in Python, to learn more, go to [Python Conditions](https://www.w3schools.com/python/python_conditions.asp)"
   ]
  }
 ],
 "metadata": {
  "kernelspec": {
   "display_name": "SageMath 9.7",
   "language": "sage",
   "name": "sagemath"
  },
  "language_info": {
   "codemirror_mode": {
    "name": "ipython",
    "version": 3
   },
   "file_extension": ".py",
   "mimetype": "text/x-python",
   "name": "python",
   "nbconvert_exporter": "python",
   "pygments_lexer": "ipython3",
   "version": "3.10.8"
  }
 },
 "nbformat": 4,
 "nbformat_minor": 4
}
