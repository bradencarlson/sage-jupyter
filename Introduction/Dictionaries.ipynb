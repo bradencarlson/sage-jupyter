{
 "cells": [
  {
   "cell_type": "markdown",
   "metadata": {},
   "source": [
    "# Dictionaries\n",
    "\n",
    "In this document, we discuss dictionaries, a powerful data structure in Python that are similar to lists.  While lists contain an array of items, that can be accessed via their index, dictionaries contain key-value pairs.  Much like real dictionaries, Python dictionaries keep track of a certain number of items, as well as their values in a single structure.  We demonstrate this in the following example."
   ]
  },
  {
   "cell_type": "code",
   "execution_count": 1,
   "metadata": {},
   "outputs": [
    {
     "name": "stdout",
     "output_type": "stream",
     "text": [
      "1\n"
     ]
    }
   ],
   "source": [
    "my_dict = {'a': 1, 'b': 2, 'c': 3, 'd': 4, 'e': 5}\n",
    "\n",
    "print(my_dict['a'])"
   ]
  },
  {
   "cell_type": "markdown",
   "metadata": {},
   "source": [
    "In this example, we define a dictionary that has five keys: $a,b,c,d$ and $e$.  Whose values are $1,2,3,4$ and $5$ respectively.  We then print out the value that corresponds to the key $a$.  Dictionaries are often used for counting objects, we do this in the following example, where we read through a string and count the number of times each letter appears:"
   ]
  },
  {
   "cell_type": "code",
   "execution_count": 2,
   "metadata": {},
   "outputs": [
    {
     "name": "stdout",
     "output_type": "stream",
     "text": [
      "6\n"
     ]
    }
   ],
   "source": [
    "counts = {}\n",
    "\n",
    "string = \"Here is some string of information that we will use for counting.  We will count the number of each letter that appears in this string.\"\n",
    "\n",
    "for letter in string:\n",
    "    if letter in counts.keys():\n",
    "        counts[letter] = counts[letter] + 1\n",
    "    else:\n",
    "        counts[letter] = 1\n",
    "\n",
    "print(counts['a'])"
   ]
  },
  {
   "cell_type": "markdown",
   "metadata": {},
   "source": [
    "This will prove a very useful feature of Python, especially when we talk about frequency analysis when tring to crack a shift cipher without the use of brute force.  \n",
    "\n",
    "It is also interesting to note that the keys and values can be pretty much whatever we need them to be.  We demonstrate this in the next example."
   ]
  },
  {
   "cell_type": "code",
   "execution_count": null,
   "metadata": {},
   "outputs": [],
   "source": [
    "my_dict = {'b': \"This is a list\", \n",
    "           \"string\": \"This is a string\", \n",
    "           14: [\"nothing\", 45, 9209],\n",
    "           23.4: \"This is a decimal\"}\n",
    "\n",
    "print(f\"The value of my_dict[14] is: {my_dict[14]}\")"
   ]
  },
  {
   "cell_type": "markdown",
   "metadata": {},
   "source": [
    "A note about this, the way that all of this information is stored in the computer, the computer computes a special value called a hash.  This is a unique value for each key that the computer then uses to look through the dictionary. We do not need to know to much about this execpt for the fact that any hashable object may be used as a key.  Hashable types include:\n",
    "\n",
    "* int's\n",
    "* str (string)\n",
    "* decimal numbers\n",
    "* Groups inherited from SageMath\n",
    "* tuples\n",
    "* and others\n",
    "\n",
    "Unhashable types include \n",
    "\n",
    "* lists\n",
    "* dictionaries\n",
    "* and others\n",
    "\n",
    "Thus we cannot use these types as keys in our dictionaries.  We can also use iteration to access all the elements in a dictionary just like we did with lists.  There are a few differences to this though; dictionaries offer a few different ways of accessing their elements:\n",
    "\n",
    "* The `.keys()` method, which retuns a list of all the key values in the dictionary\n",
    "* The `.values()` method, which returns a list of all the values in the dictionary\n",
    "* The `.items()` method, which returns a list of tuples containing each key-value pair in the dictionary.  \n",
    "\n",
    "We demonstrate all three of these in the example that follows."
   ]
  },
  {
   "cell_type": "code",
   "execution_count": 3,
   "metadata": {},
   "outputs": [
    {
     "name": "stdout",
     "output_type": "stream",
     "text": [
      "{'0^3': 0, '1^3': 1, '2^3': 8, '3^3': 27, '4^3': 64, '5^3': 125, '6^3': 216, '7^3': 343, '8^3': 512, '9^3': 729, '10^3': 1000, '11^3': 1331, '12^3': 1728, '13^3': 2197, '14^3': 2744}\n"
     ]
    }
   ],
   "source": [
    "my_dict = {}\n",
    "\n",
    "x = [i^3 for i in range(0,15)]\n",
    "y = [i for i in range(0,15)]\n",
    "\n",
    "for i in range(0,len(y)):\n",
    "    my_dict[f\"{i}^3\"] = x[i]\n",
    "\n",
    "print(my_dict)"
   ]
  },
  {
   "cell_type": "code",
   "execution_count": 4,
   "metadata": {},
   "outputs": [
    {
     "name": "stdout",
     "output_type": "stream",
     "text": [
      "0^3\n",
      "1^3\n",
      "2^3\n",
      "3^3\n",
      "4^3\n",
      "5^3\n",
      "6^3\n",
      "7^3\n",
      "8^3\n",
      "9^3\n",
      "10^3\n",
      "11^3\n",
      "12^3\n",
      "13^3\n",
      "14^3\n",
      "0\n",
      "1\n",
      "8\n",
      "27\n",
      "64\n",
      "125\n",
      "216\n",
      "343\n",
      "512\n",
      "729\n",
      "1000\n",
      "1331\n",
      "1728\n",
      "2197\n",
      "2744\n"
     ]
    }
   ],
   "source": [
    "for k in my_dict.keys():\n",
    "    print(k)\n",
    "for v in my_dict.values():\n",
    "    print(v)"
   ]
  },
  {
   "cell_type": "markdown",
   "metadata": {},
   "source": [
    "One note about using the `.items()` method.  We will use this most when we wish to access both the key and its value for every element in the dictionary.  In doing so, since this method returns a list of tuples, we need not one but two iterators to accomplish this.  We show how this is done in the following example:"
   ]
  },
  {
   "cell_type": "code",
   "execution_count": 5,
   "metadata": {},
   "outputs": [
    {
     "name": "stdout",
     "output_type": "stream",
     "text": [
      "The value of 0^3 is 0\n",
      "The value of 1^3 is 1\n",
      "The value of 2^3 is 8\n",
      "The value of 3^3 is 27\n",
      "The value of 4^3 is 64\n",
      "The value of 5^3 is 125\n",
      "The value of 6^3 is 216\n",
      "The value of 7^3 is 343\n",
      "The value of 8^3 is 512\n",
      "The value of 9^3 is 729\n",
      "The value of 10^3 is 1000\n",
      "The value of 11^3 is 1331\n",
      "The value of 12^3 is 1728\n",
      "The value of 13^3 is 2197\n",
      "The value of 14^3 is 2744\n"
     ]
    }
   ],
   "source": [
    "for k,v in my_dict.items():\n",
    "    print(f\"The value of {k} is {v}\")"
   ]
  },
  {
   "cell_type": "markdown",
   "metadata": {},
   "source": [
    "We will use dictionaries quite a bit throughout this project, so practice using these as we will use them in the future to count cosets, conjugacy classes, and more."
   ]
  }
 ],
 "metadata": {
  "kernelspec": {
   "display_name": "SageMath 9.7",
   "language": "sage",
   "name": "sagemath"
  },
  "language_info": {
   "codemirror_mode": {
    "name": "ipython",
    "version": 3
   },
   "file_extension": ".py",
   "mimetype": "text/x-python",
   "name": "python",
   "nbconvert_exporter": "python",
   "pygments_lexer": "ipython3",
   "version": "3.10.8"
  }
 },
 "nbformat": 4,
 "nbformat_minor": 4
}
