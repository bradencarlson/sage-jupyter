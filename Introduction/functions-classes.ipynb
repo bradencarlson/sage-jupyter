{
 "cells": [
  {
   "cell_type": "markdown",
   "metadata": {},
   "source": [
    "# Functions and Classes"
   ]
  },
  {
   "cell_type": "markdown",
   "metadata": {},
   "source": [
    "## Functions"
   ]
  },
  {
   "cell_type": "markdown",
   "metadata": {},
   "source": [
    "Another useful feature of SageMath that is inherited from Python is the concept of a function.  If we ever need to perform the same operation repeatedly, it may be useful to define a function that contains that code instead.  See the code below, where we define the average function, that takes the average of a list."
   ]
  },
  {
   "cell_type": "code",
   "execution_count": null,
   "metadata": {},
   "outputs": [],
   "source": [
    "def average(x: list):\n",
    "    total = 0\n",
    "    for item in x:\n",
    "        total = total + item\n",
    "    \n",
    "    average = total / len(x)\n",
    "    \n",
    "    return average"
   ]
  },
  {
   "cell_type": "markdown",
   "metadata": {},
   "source": [
    "After running the cell above, the function `average()` is now available to us.  There are a few things to note here.  In the function declaration, we use the keyword `def`, which is short for define, to let the interpreter know that we are defining a function.  Then we specify the name of the function, and what parameters are needed to use the function.  In this case, the paramter is `x`, and has to be of type `list`.  Then, as we have seen before, we declare a new variable total, sum all the numbers in the list `x`, then we devide the total by the number of elements in `x`, and return that average.  Below we can see this function being used."
   ]
  },
  {
   "cell_type": "code",
   "execution_count": null,
   "metadata": {},
   "outputs": [],
   "source": [
    "x = [3,2,4,56,5,4,3,2]\n",
    "print(average(x))"
   ]
  },
  {
   "cell_type": "markdown",
   "metadata": {},
   "source": [
    "Note that even though the variable `x` is used in the function declaration, defining `x=[3,2,4,56,5,4,3,2]` does not affect the function at all.  This is refered to as variable scope, and will not be discussed here.  Here is a more advanced example of a function:"
   ]
  },
  {
   "cell_type": "code",
   "execution_count": null,
   "metadata": {},
   "outputs": [],
   "source": [
    "# define a new function divisors, that requires a integer.\n",
    "def divisors(x: int):\n",
    "    # define a new array to contain all the divisors of x\n",
    "    divisors = []\n",
    "    # for each number up to x, if that number is a divisor\n",
    "    # append it to the array.\n",
    "    for i in range(1,x+1):\n",
    "        if x % i == 0:\n",
    "            divisors.append(i)\n",
    "    \n",
    "    # return the list of divisors\n",
    "    return divisors\n",
    "\n",
    "print(divisors(12))"
   ]
  },
  {
   "cell_type": "markdown",
   "metadata": {},
   "source": [
    "The key word `return` here means that whatever comes after that keyword will be the output of that function.  Functions do not need a return value, but often they are useful.  This means that we can make statements like the following:"
   ]
  },
  {
   "cell_type": "code",
   "execution_count": null,
   "metadata": {},
   "outputs": [],
   "source": [
    "# define x to be 60\n",
    "x = 60\n",
    "# define y to be the list of all divisors of x\n",
    "y = divisors(x)\n",
    "\n",
    "# print out y\n",
    "print(y)"
   ]
  },
  {
   "cell_type": "markdown",
   "metadata": {},
   "source": [
    "## Classes"
   ]
  },
  {
   "cell_type": "markdown",
   "metadata": {},
   "source": [
    "While functions alone are often very useful, Often we will wish to use SageMath to represent some sort of object.  We have already been using this terminology in this series of documents, we have introduced the reader to different data types such as `int` and `str` for Integers and Strings, but what these objects really are are classes.  \n",
    "\n",
    "There are many pre-defined classes that are ready for us to use once we have loaded SageMath, and although on occasion we will find it useful to define our own classes, for the vast majority of the time we will be using the classes that SageMath has by default.  One such class is the matrix class (technically, the matrix class is what is called an abstract class, and the class the next example uses is the Matrix_Integer_dense class, which is a type of matrix, but we will not worry about that here), for example, to define a matrix, we put:"
   ]
  },
  {
   "cell_type": "code",
   "execution_count": null,
   "metadata": {},
   "outputs": [],
   "source": [
    "x = matrix([[1,3],[6,3]])\n",
    "type(x)"
   ]
  },
  {
   "cell_type": "markdown",
   "metadata": {},
   "source": [
    "The 'function' `matrix()` that we use here to define the matrix is called a constructor, because it constructs an instance of the class matrix for us to use.  Since `x` is now a matrix object, we have operations that we can use on `x` that we cannot use on lists or Integers or other objects.  For example:"
   ]
  },
  {
   "cell_type": "code",
   "execution_count": null,
   "metadata": {},
   "outputs": [],
   "source": [
    "print(x.transpose())\n",
    "y = x.echelon_form()\n",
    "\n",
    "# print a blank line\n",
    "print()\n",
    "print(y)"
   ]
  },
  {
   "cell_type": "markdown",
   "metadata": {},
   "source": [
    "The reason behind this is because the matrix class has functions built into it that lists and Integers do not.  Representing real everyday objects in programming with classes is refered to as Object Oriented Programming, and is very powerful.  We will see a few custom classes defined in this course, namely when we look in Algebraic Coding theory.  For now, we merily need to know that they are out there."
   ]
  }
 ],
 "metadata": {
  "kernelspec": {
   "display_name": "SageMath 9.0",
   "language": "sage",
   "name": "sagemath"
  },
  "language_info": {
   "codemirror_mode": {
    "name": "ipython",
    "version": 3
   },
   "file_extension": ".py",
   "mimetype": "text/x-python",
   "name": "python",
   "nbconvert_exporter": "python",
   "pygments_lexer": "ipython3",
   "version": "3.8.10"
  }
 },
 "nbformat": 4,
 "nbformat_minor": 4
}
