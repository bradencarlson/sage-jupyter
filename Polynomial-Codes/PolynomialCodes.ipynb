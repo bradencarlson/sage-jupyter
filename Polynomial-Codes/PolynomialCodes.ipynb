{
 "cells": [
  {
   "cell_type": "markdown",
   "metadata": {},
   "source": [
    "# Polynomial Codes\n",
    "\n",
    "We can easily identify messages from $\\mathbb{Z}_2^{k}$ with a polynomial in $\\mathbb{Z}_2[x]$ with the following map\n",
    "$$ (a_0,a_1,\\dots,a_{k-1})\\rightarrow a_0+a_1x+\\cdots +a_{k-1}x^{k-1} $$\n",
    "If we then fix some nonconstant polynomial $g(x)\\in\\mathbb{Z}_2[x]$ of degree $n-k$, we can create a $(n,k)$-code defined by multiplication the polynomial $g(x)$.  We will make use of Polynomial Rings in SageMath to implement this \n",
    "here.  Consider the following example, taken from Judson's *Abstract Algebra: Theory and Applications*.  "
   ]
  },
  {
   "cell_type": "code",
   "execution_count": null,
   "metadata": {},
   "outputs": [],
   "source": [
    "Z.<x> = PolynomialRing(IntegerModRing(2))\n",
    "\n",
    "# here we are creating a (6,3)-code\n",
    "g = 1+x^3\n",
    "\n",
    "# create a codeword f = 011\n",
    "f = x+x^2\n",
    "\n",
    "encoded = f*g\n",
    "\n",
    "print(encoded)\n",
    "\n",
    "# print the actual binary encoded message\n",
    "print(list(encoded))"
   ]
  },
  {
   "cell_type": "markdown",
   "metadata": {},
   "source": [
    "Here we create a method that generates an encoding message based on an encoding polynomial.  This can then be used \n",
    "to encode messages with out computing the polynomials, although the notions are equivalent."
   ]
  },
  {
   "cell_type": "code",
   "execution_count": null,
   "metadata": {},
   "outputs": [],
   "source": [
    "def create_matrix(p,n,k):\n",
    "    matrix = []\n",
    "    for i in range(0,k):\n",
    "        row = p*(x^i)\n",
    "        row = list(row)\n",
    "        while len(row)<n:\n",
    "            row.append(0)\n",
    "        matrix.append(list(row))\n",
    "    return Matrix(matrix).transpose()"
   ]
  },
  {
   "cell_type": "code",
   "execution_count": null,
   "metadata": {},
   "outputs": [],
   "source": [
    "m = create_matrix(g,6,3)"
   ]
  },
  {
   "cell_type": "code",
   "execution_count": null,
   "metadata": {},
   "outputs": [],
   "source": [
    "m"
   ]
  },
  {
   "cell_type": "markdown",
   "metadata": {},
   "source": [
    "As demonstrated above, this method requires a polynomial $p$, and the parameters of the code $n$ and $k$.  Now, the \n",
    "next step we wish to take is to use the structure of Rings to improve the codes created.  We desire cyclic codes, \n",
    "and during the course of the [lectures]() corresponding to these documents, we want to consider ideals of the \n",
    "ring \n",
    "$$ \\frac{\\mathbb{Z}_2[x]}{\\left<x^n-1\\right>} $$\n",
    "which is isomorphic to $\\mathbb{Z}_2(Z_n)$ where $Z_n$ is the cyclic group of order $n$. These ideals will need to \n",
    "contain $\\left<x^n-1\\right>$, and thus as we see in the textbook, as well as in the lectures, a code $C$ is cyclic if and only if it is an ideal of the ring shown above.  \n",
    "\n",
    "Say we wish to develop a cyclic code of length 7, then we need some polynomial that divides $x^7-1$.  This can be found by using the `factor` command."
   ]
  },
  {
   "cell_type": "code",
   "execution_count": null,
   "metadata": {},
   "outputs": [],
   "source": [
    "factor(x^7+1)"
   ]
  },
  {
   "cell_type": "markdown",
   "metadata": {},
   "source": [
    "Choosing our generator polynomial to be $x^3+x^2+1$, we generate a $(7,4)$-block code that will be cyclic.  The \n",
    "generator matrix is found in the following cell."
   ]
  },
  {
   "cell_type": "code",
   "execution_count": null,
   "metadata": {},
   "outputs": [],
   "source": [
    "g = x^3+x^2+1\n",
    "m = create_matrix(g,7,4)\n",
    "print(m)"
   ]
  },
  {
   "cell_type": "markdown",
   "metadata": {},
   "source": [
    "Here we give an example of encoding a message, note that since the encoding matrix is a matrix, we must convert \n",
    "any message into a matrix as well, to avoid TypeErrors."
   ]
  },
  {
   "cell_type": "code",
   "execution_count": null,
   "metadata": {},
   "outputs": [],
   "source": [
    "message = Matrix([0,1,1,1]).transpose()\n",
    "print(m*message)"
   ]
  },
  {
   "cell_type": "markdown",
   "metadata": {},
   "source": [
    "We will discuss the detection and correction capabilities of polynomial codes while discussing BCH codes in the next \n",
    "document."
   ]
  }
 ],
 "metadata": {
  "kernelspec": {
   "display_name": "SageMath 9.7",
   "language": "sage",
   "name": "sagemath"
  },
  "language_info": {
   "codemirror_mode": {
    "name": "ipython",
    "version": 3
   },
   "file_extension": ".py",
   "mimetype": "text/x-python",
   "name": "python",
   "nbconvert_exporter": "python",
   "pygments_lexer": "ipython3",
   "version": "3.10.8"
  }
 },
 "nbformat": 4,
 "nbformat_minor": 4
}
