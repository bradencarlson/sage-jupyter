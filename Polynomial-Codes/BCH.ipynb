{
 "cells": [
  {
   "cell_type": "markdown",
   "metadata": {},
   "source": [
    "# BCH Codes\n",
    "\n",
    "Here we will expound on the polynomial codes that we explored in the previous document.  BCH codes are very \n",
    "similar, although we are a little more careful with the choice of the generating polynomial.  Let $d=2r+1$.  Then if \n",
    "$$ g(x)=\\text{lcm}\\{m_1(x),m_2(x),\\dots,m_{2r}(x)\\} $$ \n",
    "where $m_i(x)$ is the minimal polynomial of $\\omega^i$ where $\\omega $ is the primitive $n^{th}$ root of unity \n",
    "over $\\mathbb{Z}_2$, then with this choice of $g$, we have that the cyclic code $\\left<g(x)\\right>$ in \n",
    "$$ \\frac{\\mathbb{Z}_2[x]}{\\left<x^n-1\\right>} $$ \n",
    "is called the BHC code of length $n$ and distance $d$.  If we recall the previous results from the Linear codes \n",
    "that were discussed earlier, we have that this code can detect $2r$ errors, and correct $r$ errors.  "
   ]
  },
  {
   "cell_type": "markdown",
   "metadata": {},
   "source": [
    "To create a distance 5 BCH code, we take our generating polynomial to be $1+x^4+x^6+x^7+x^8$, which is the product \n",
    "$$ (1+x^2+x^4)(1+x+x^2+x^3+x^4) $$\n",
    "This generator polynomial gives a cyclic code with distance 5.  This example is given below."
   ]
  },
  {
   "cell_type": "code",
   "execution_count": 112,
   "metadata": {
    "scrolled": true
   },
   "outputs": [
    {
     "name": "stdout",
     "output_type": "stream",
     "text": [
      "[0 0 0 0 0 0 0 1 1 0 1 0 0 0 1]\n",
      "[0 0 0 0 0 0 1 1 0 1 0 0 0 1 0]\n",
      "[0 0 0 0 0 1 1 0 1 0 0 0 1 0 0]\n",
      "[0 0 0 0 1 1 0 1 0 0 0 1 0 0 0]\n",
      "[0 0 0 1 1 0 1 0 0 0 1 0 0 0 0]\n",
      "[0 0 1 1 0 1 0 0 0 1 0 0 0 0 0]\n",
      "[0 1 1 0 1 0 0 0 1 0 0 0 0 0 0]\n",
      "[1 1 0 1 0 0 0 1 0 0 0 0 0 0 0]\n"
     ]
    }
   ],
   "source": [
    "def create_matrix(p,n,A):\n",
    "    matrix = []\n",
    "    for i in range(0,n-p.degree()):\n",
    "        row = p*(x^i)\n",
    "        row = list(row)\n",
    "        while len(row)!=n:\n",
    "            row.append(0)\n",
    "        matrix.append(row)\n",
    "    matrix1 = []\n",
    "    h = (x^n+1)/p\n",
    "    h = A(h)\n",
    "    for i in range(0,n-h.degree()):\n",
    "        h = A(h)\n",
    "        row = h*(x^i)\n",
    "        row = A(row)\n",
    "        row = list(row)\n",
    "        row.reverse()\n",
    "        while len(row)<n:\n",
    "            row.insert(0,0)\n",
    "        matrix1.append(row)\n",
    "    #return Matrix(matrix).transpose(), Matrix(matrix1)\n",
    "    return matrix, matrix1\n",
    "\n",
    "Z.<x> = PolynomialRing(IntegerModRing(2))\n",
    "g = 1+x^4+x^6+x^7+x^8\n",
    "G,H = create_matrix(g,15,Z)\n",
    "\n",
    "G = Matrix(G).transpose()\n",
    "H = Matrix(H)\n",
    "print(H)"
   ]
  },
  {
   "cell_type": "markdown",
   "metadata": {},
   "source": [
    "Here is an example of a message being encoded and decoded with the matrices defined above. "
   ]
  },
  {
   "cell_type": "code",
   "execution_count": 8,
   "metadata": {},
   "outputs": [
    {
     "name": "stdout",
     "output_type": "stream",
     "text": [
      "[0 0 0 0 0 0 0]\n",
      "[0 0 0 0 0 0 0]\n",
      "[0 0 0 0 0 0 0]\n",
      "[0 0 0 0 0 0 0]\n",
      "[0 0 0 0 0 0 0]\n",
      "[0 0 0 0 0 0 0]\n",
      "[0 0 0 0 0 0 0]\n",
      "[0 0 0 0 0 0 0]\n"
     ]
    }
   ],
   "source": [
    "message = Matrix([0,1,0,1,0,1,0]).transpose()\n",
    "encoded = G*x\n",
    "decoded = H*encoded\n",
    "print(decoded)"
   ]
  },
  {
   "cell_type": "markdown",
   "metadata": {},
   "source": [
    "Similarly to what we did with Linear codes, we construct a `BurstChannel` class, which will allow us to \"send\" \n",
    "our messages across a channel, in which errors could possibly be introduced into our message.  This channel will \n",
    "be different than the `SymmetricChannel` defined before, as this one will have a higher probability of burst errors. \n",
    "Our `BurstChannel` will still be based on the Bernoulli distribution, as before, but will not only depend on this \n",
    "distribution, but also on whether or not an error has previously occured.  We define this now."
   ]
  },
  {
   "cell_type": "code",
   "execution_count": 151,
   "metadata": {},
   "outputs": [],
   "source": [
    "# import the random module to use in the Bernoulli class\n",
    "import random\n",
    "\n",
    "# define the Bernoulli class\n",
    "class Bernoulli:\n",
    "    # define the constructor, that requires a parameter p, which should\n",
    "    # be between zero and one.\n",
    "    def __init__(self, p):\n",
    "        self.p = p\n",
    "    \n",
    "    # define the method that will display information about the \n",
    "    # object when in a print statement\n",
    "    def __repr__(self):\n",
    "        return f\"Bernoulli distribution with parameter {self.p}\"\n",
    "    \n",
    "    # define the method that performs a random trial from the \n",
    "    # Bernoulli distribution based on the parameter p\n",
    "    def randomTrial(self):\n",
    "        value = random.random()\n",
    "        if value < self.p:\n",
    "            return 1\n",
    "        else:\n",
    "            return 0\n",
    "        \n",
    "class BurstChannel:\n",
    "    def __init__(self, b, p):\n",
    "        self.B = Bernoulli(b)\n",
    "        self.burst = Bernoulli(p)\n",
    "    def __repr__(self):\n",
    "        return f\"Burst Channel based on {self.B}\"\n",
    "    \n",
    "    \n",
    "    def transmit(self,message):\n",
    "        previous_flip = False\n",
    "        flip = False\n",
    "        for i in range(0,len(message)):\n",
    "            if not previous_flip:\n",
    "                previous_flip = self.B.randomTrial()\n",
    "                if previous_flip:\n",
    "                    message[i] = (message[i]+1) % 2\n",
    "            else:\n",
    "                previous_flip = self.burst.randomTrial()\n",
    "                if previous_flip:\n",
    "                    message[i] = (message[i]+1) % 2\n",
    "        return message\n",
    "            "
   ]
  },
  {
   "cell_type": "markdown",
   "metadata": {},
   "source": [
    "Here we define a `BurstChannel` which has a probability of an error of 0.1, but if the previous bit was flipped, \n",
    "then the probability of the next bit having an error is 0.8.  This increases the probability of burst errors.  \n",
    "We then define a message, and send it through the Burst Channel, and the print the result.  **Note that in this \n",
    "method, the `BurstChannel` requires a list to be passed into its transmit message, and returns a list, Thus to \n",
    "perform any check with the matrix $H$, we then need to convert the transmitted message to a matrix.**"
   ]
  },
  {
   "cell_type": "code",
   "execution_count": 152,
   "metadata": {},
   "outputs": [
    {
     "name": "stdout",
     "output_type": "stream",
     "text": [
      "[0, 1, 0, 0, 1, 0, 0]\n"
     ]
    }
   ],
   "source": [
    "B = BurstChannel(.1,.8)\n",
    "message = [0,1,1,1,1,0,0]\n",
    "print(B.transmit(message))"
   ]
  },
  {
   "cell_type": "markdown",
   "metadata": {},
   "source": [
    "We will now go through an example of defining generator and parity check matrices, and then using a \n",
    "`BurstChannel` to send our message, and then using the parity check matrix to determine whether or not there were errors in the message. "
   ]
  },
  {
   "cell_type": "code",
   "execution_count": 153,
   "metadata": {},
   "outputs": [
    {
     "name": "stdout",
     "output_type": "stream",
     "text": [
      "[1 0 0 0 0 0 0]\n",
      "[1 1 0 0 0 0 0]\n",
      "[1 1 1 0 0 0 0]\n",
      "[0 1 1 1 0 0 0]\n",
      "[0 0 1 1 1 0 0]\n",
      "[0 0 0 1 1 1 0]\n",
      "[0 0 0 0 1 1 1]\n",
      "[0 0 0 0 0 1 1]\n",
      "[0 0 0 0 0 0 1]\n",
      "\n",
      "[0 1 1 0 1 1 0 1 1]\n",
      "[1 1 0 1 1 0 1 1 0]\n",
      "encoded:  [0 1 0 1 1 0 1 0 0] \n",
      "\n",
      "decoded:  [0 0]\n"
     ]
    }
   ],
   "source": [
    "R.<x> = PolynomialRing(IntegerModRing(2))\n",
    "\n",
    "p = x^(9)+1\n",
    "\n",
    "g = x^2+x+1\n",
    "h = p/g\n",
    "h = R(h)\n",
    "G,H = create_matrix(g,9,R)\n",
    "\n",
    "G = Matrix(G).transpose()\n",
    "H = Matrix(H)\n",
    "print(G)\n",
    "print()\n",
    "print(H)\n",
    "\n",
    "message = [0,1,1,1,1,0,0]\n",
    "message = Matrix(message).transpose()\n",
    "\n",
    "encoded = G*message\n",
    "\n",
    "print(\"encoded: \",encoded.transpose(),\"\\n\")\n",
    "\n",
    "decoded = H*encoded\n",
    "print(\"decoded: \",decoded.transpose())\n",
    "\n"
   ]
  },
  {
   "cell_type": "markdown",
   "metadata": {},
   "source": [
    "Now we will do the same, but we will transmit the message through the `BurstChannel` between encoding, and \n",
    "decoding, and we will see how the syndrome changes as errors are introduced into the message.  **Due to the way the \n",
    "`BurstChannel` was programmed, we add new methods to encode and decode messages, so that we do not have to \n",
    "define our messages with matrices, but can use lists instead.**"
   ]
  },
  {
   "cell_type": "code",
   "execution_count": 166,
   "metadata": {},
   "outputs": [],
   "source": [
    "def encode(message,G):\n",
    "    message = Matrix(message).transpose()\n",
    "    encoded = G*message\n",
    "    encoded = list(encoded.transpose())\n",
    "    return list(encoded[0])\n",
    "\n",
    "def decode(message,H):\n",
    "    message = Matrix(message).transpose()\n",
    "    decoded = H*message\n",
    "    decoded = list(decoded.transpose())\n",
    "    return list(decoded[0])"
   ]
  },
  {
   "cell_type": "markdown",
   "metadata": {},
   "source": [
    "Our example of encoded, transmitting, and decoding is below:"
   ]
  },
  {
   "cell_type": "code",
   "execution_count": 187,
   "metadata": {},
   "outputs": [
    {
     "name": "stdout",
     "output_type": "stream",
     "text": [
      "encoded:\t [0, 1, 0, 1, 1, 0, 1, 0, 0]\n",
      "transmitted:\t [0, 0, 1, 0, 0, 1, 0, 0, 0]\n",
      "decoded:\t [0, 0]\n"
     ]
    }
   ],
   "source": [
    "encoded = encode([0,1,1,1,1,0,0],G)\n",
    "\n",
    "print(\"encoded:\\t\",encoded)\n",
    "\n",
    "transmitted = B.transmit(encoded)\n",
    "\n",
    "print(\"transmitted:\\t\",transmitted)\n",
    "\n",
    "decoded = decode(transmitted,H)\n",
    "\n",
    "print(\"decoded:\\t\",decoded)"
   ]
  }
 ],
 "metadata": {
  "kernelspec": {
   "display_name": "SageMath 9.0",
   "language": "sage",
   "name": "sagemath"
  },
  "language_info": {
   "codemirror_mode": {
    "name": "ipython",
    "version": 3
   },
   "file_extension": ".py",
   "mimetype": "text/x-python",
   "name": "python",
   "nbconvert_exporter": "python",
   "pygments_lexer": "ipython3",
   "version": "3.8.10"
  }
 },
 "nbformat": 4,
 "nbformat_minor": 4
}
