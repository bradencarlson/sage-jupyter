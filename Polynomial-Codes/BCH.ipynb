{
 "cells": [
  {
   "cell_type": "markdown",
   "metadata": {},
   "source": [
    "# BCH Codes\n",
    "\n",
    "Here we will expound on the polynomial codes that we explored in the previous document.  BCH codes are very \n",
    "similar, although we are a little more careful with the choice of the generating polynomial.  Let $d=2r+1$.  Then if \n",
    "$$ g(x)=\\text{lcm}\\{m_1(x),m_2(x),\\dots,m_{2r}(x)\\} $$ \n",
    "where $m_i(x)$ is the minimal polynomial of $\\omega^i$ where $\\omega $ is the primitive $n^{th}$ root of unity \n",
    "over $\\mathbb{Z}_2$, then with this choice of $g$, we have that the cyclic code $\\left<g(x)\\right>$ in \n",
    "$$ \\frac{\\mathbb{Z}_2[x]}{\\left<x^n-1\\right>} $$ \n",
    "is called the BHC code of length $n$ and distance $d$.  If we recall the previous results from the Linear codes \n",
    "that were discussed earlier, we have that this code can detect $2r$ errors, and correct $r$ errors.  "
   ]
  },
  {
   "cell_type": "markdown",
   "metadata": {},
   "source": [
    "To create a distance 5 BCH code, we take our generating polynomial to be $1+x^4+x^6+x^7+x^8$, which is the product \n",
    "$$ (1+x^2+x^4)(1+x+x^2+x^3+x^4) $$\n",
    "This generator polynomial gives a cyclic code with distance 5.  This example is given below."
   ]
  },
  {
   "cell_type": "code",
   "execution_count": 3,
   "metadata": {
    "scrolled": true
   },
   "outputs": [
    {
     "name": "stdout",
     "output_type": "stream",
     "text": [
      "[1 0 0 0 0 0 0]\n",
      "[0 1 0 0 0 0 0]\n",
      "[0 0 1 0 0 0 0]\n",
      "[0 0 0 1 0 0 0]\n",
      "[1 0 0 0 1 0 0]\n",
      "[0 1 0 0 0 1 0]\n",
      "[1 0 1 0 0 0 1]\n",
      "[1 1 0 1 0 0 0]\n",
      "[1 1 1 0 1 0 0]\n",
      "[0 1 1 1 0 1 0]\n",
      "[0 0 1 1 1 0 1]\n",
      "[0 0 0 1 1 1 0]\n",
      "[0 0 0 0 1 1 1]\n",
      "[0 0 0 0 0 1 1]\n",
      "[0 0 0 0 0 0 1]\n",
      "[0 0 0 0 0 0 0 1 1 0 1 0 0 0 1]\n",
      "[0 0 0 0 0 0 1 1 0 1 0 0 0 1 0]\n",
      "[0 0 0 0 0 1 1 0 1 0 0 0 1 0 0]\n",
      "[0 0 0 0 1 1 0 1 0 0 0 1 0 0 0]\n",
      "[0 0 0 1 1 0 1 0 0 0 1 0 0 0 0]\n",
      "[0 0 1 1 0 1 0 0 0 1 0 0 0 0 0]\n",
      "[0 1 1 0 1 0 0 0 1 0 0 0 0 0 0]\n",
      "[1 1 0 1 0 0 0 1 0 0 0 0 0 0 0]\n",
      "[0 0 0 0 0 0 0]\n",
      "[0 0 0 0 0 0 0]\n",
      "[0 0 0 0 0 0 0]\n",
      "[0 0 0 0 0 0 0]\n",
      "[0 0 0 0 0 0 0]\n",
      "[0 0 0 0 0 0 0]\n",
      "[0 0 0 0 0 0 0]\n",
      "[0 0 0 0 0 0 0]\n"
     ]
    }
   ],
   "source": [
    "def create_matrix(p,n,k,Z):\n",
    "    matrix = []\n",
    "    for i in range(0,k):\n",
    "        row = p*(x^i)\n",
    "        row = list(row)\n",
    "        while len(row)!=n:\n",
    "            row.append(0)\n",
    "        matrix.append(list(row))\n",
    "    matrix1 = []\n",
    "    h = (x^n+1)/p\n",
    "    for i in range(0,k+1):\n",
    "        row = h*(x^i)\n",
    "        row = Z(row)\n",
    "        row = list(row)\n",
    "        row.reverse()\n",
    "        while len(row)<n:\n",
    "            row.insert(0,0)\n",
    "        matrix1.append(row)\n",
    "    return Matrix(matrix).transpose(), Matrix(matrix1)\n",
    "\n",
    "Z.<x> = PolynomialRing(IntegerModRing(2))\n",
    "g = 1+x^4+x^6+x^7+x^8\n",
    "G,H = create_matrix(g,15,7,Z)\n",
    "print(G)\n",
    "print(H)\n",
    "print(H*G)"
   ]
  },
  {
   "cell_type": "markdown",
   "metadata": {},
   "source": [
    "Here is an example of a message being encoded and decoded with the matrices defined above. "
   ]
  },
  {
   "cell_type": "code",
   "execution_count": 8,
   "metadata": {},
   "outputs": [
    {
     "name": "stdout",
     "output_type": "stream",
     "text": [
      "[0 0 0 0 0 0 0]\n",
      "[0 0 0 0 0 0 0]\n",
      "[0 0 0 0 0 0 0]\n",
      "[0 0 0 0 0 0 0]\n",
      "[0 0 0 0 0 0 0]\n",
      "[0 0 0 0 0 0 0]\n",
      "[0 0 0 0 0 0 0]\n",
      "[0 0 0 0 0 0 0]\n"
     ]
    }
   ],
   "source": [
    "message = Matrix([0,1,0,1,0,1,0]).transpose()\n",
    "encoded = G*x\n",
    "decoded = H*encoded\n",
    "print(decoded)"
   ]
  },
  {
   "cell_type": "markdown",
   "metadata": {},
   "source": [
    "Similarly to what we did with Linear codes, we construct a `BurstChannel` class, which will allow us to \"send\" \n",
    "our messages across a channel, in which errors could possibly be introduced into our message.  This channel will \n",
    "be different than the `SymmetricChannel` defined before, as this one will have a higher probability of burst errors. \n",
    "Our `BurstChannel` will still be based on the Bernoulli distribution, as before, but will not only depend on this \n",
    "distribution, but also on whether or not an error has previously occured.  We define this now."
   ]
  },
  {
   "cell_type": "code",
   "execution_count": 20,
   "metadata": {},
   "outputs": [],
   "source": [
    "# import the random module to use in the Bernoulli class\n",
    "import random\n",
    "\n",
    "# define the Bernoulli class\n",
    "class Bernoulli:\n",
    "    # define the constructor, that requires a parameter p, which should\n",
    "    # be between zero and one.\n",
    "    def __init__(self, p):\n",
    "        self.p = p\n",
    "    \n",
    "    # define the method that will display information about the \n",
    "    # object when in a print statement\n",
    "    def __repr__(self):\n",
    "        return f\"Bernoulli distribution with parameter {self.p}\"\n",
    "    \n",
    "    # define the method that performs a random trial from the \n",
    "    # Bernoulli distribution based on the parameter p\n",
    "    def randomTrial(self):\n",
    "        value = random.random()\n",
    "        if value < self.p:\n",
    "            return 1\n",
    "        else:\n",
    "            return 0\n",
    "        \n",
    "class BurstChannel:\n",
    "    def __init__(self, b, p):\n",
    "        self.B = Bernoulli(b)\n",
    "        self.burst = Bernoulli(p)\n",
    "    def __repr__(self):\n",
    "        return f\"Burst Channel based on {self.B}\"\n",
    "    \n",
    "    \n",
    "    def transmit(self,message):\n",
    "        previous_flip = False\n",
    "        flip = False\n",
    "        for i in range(0,len(message)):\n",
    "            if not previous_flip:\n",
    "                previous_flip = self.B.randomTrial()\n",
    "                if previous_flip:\n",
    "                    message[i] = (message[i]+1) % 2\n",
    "            else:\n",
    "                previous_flip = self.burst.randomTrial()\n",
    "                if previous_flip:\n",
    "                    message[i] = (message[i]+1) % 2\n",
    "        return message\n",
    "            "
   ]
  },
  {
   "cell_type": "code",
   "execution_count": 27,
   "metadata": {},
   "outputs": [
    {
     "ename": "TypeError",
     "evalue": "object of type 'sage.matrix.matrix_integer_dense.Matrix_integer_dense' has no len()",
     "output_type": "error",
     "traceback": [
      "\u001b[0;31m---------------------------------------------------------------------------\u001b[0m",
      "\u001b[0;31mTypeError\u001b[0m                                 Traceback (most recent call last)",
      "\u001b[0;32m<ipython-input-27-cfab789152df>\u001b[0m in \u001b[0;36m<module>\u001b[0;34m\u001b[0m\n\u001b[1;32m      1\u001b[0m \u001b[0mB\u001b[0m \u001b[0;34m=\u001b[0m \u001b[0mBurstChannel\u001b[0m\u001b[0;34m(\u001b[0m\u001b[0mRealNumber\u001b[0m\u001b[0;34m(\u001b[0m\u001b[0;34m'.2'\u001b[0m\u001b[0;34m)\u001b[0m\u001b[0;34m,\u001b[0m\u001b[0mRealNumber\u001b[0m\u001b[0;34m(\u001b[0m\u001b[0;34m'.6'\u001b[0m\u001b[0;34m)\u001b[0m\u001b[0;34m)\u001b[0m\u001b[0;34m\u001b[0m\u001b[0;34m\u001b[0m\u001b[0m\n\u001b[1;32m      2\u001b[0m \u001b[0mmessage\u001b[0m \u001b[0;34m=\u001b[0m \u001b[0mMatrix\u001b[0m\u001b[0;34m(\u001b[0m\u001b[0;34m[\u001b[0m\u001b[0mInteger\u001b[0m\u001b[0;34m(\u001b[0m\u001b[0;36m0\u001b[0m\u001b[0;34m)\u001b[0m\u001b[0;34m,\u001b[0m\u001b[0mInteger\u001b[0m\u001b[0;34m(\u001b[0m\u001b[0;36m1\u001b[0m\u001b[0;34m)\u001b[0m\u001b[0;34m,\u001b[0m\u001b[0mInteger\u001b[0m\u001b[0;34m(\u001b[0m\u001b[0;36m1\u001b[0m\u001b[0;34m)\u001b[0m\u001b[0;34m,\u001b[0m\u001b[0mInteger\u001b[0m\u001b[0;34m(\u001b[0m\u001b[0;36m1\u001b[0m\u001b[0;34m)\u001b[0m\u001b[0;34m,\u001b[0m\u001b[0mInteger\u001b[0m\u001b[0;34m(\u001b[0m\u001b[0;36m1\u001b[0m\u001b[0;34m)\u001b[0m\u001b[0;34m,\u001b[0m\u001b[0mInteger\u001b[0m\u001b[0;34m(\u001b[0m\u001b[0;36m0\u001b[0m\u001b[0;34m)\u001b[0m\u001b[0;34m,\u001b[0m\u001b[0mInteger\u001b[0m\u001b[0;34m(\u001b[0m\u001b[0;36m0\u001b[0m\u001b[0;34m)\u001b[0m\u001b[0;34m]\u001b[0m\u001b[0;34m)\u001b[0m\u001b[0;34m\u001b[0m\u001b[0;34m\u001b[0m\u001b[0m\n\u001b[0;32m----> 3\u001b[0;31m \u001b[0mB\u001b[0m\u001b[0;34m.\u001b[0m\u001b[0mtransmit\u001b[0m\u001b[0;34m(\u001b[0m\u001b[0mmessage\u001b[0m\u001b[0;34m)\u001b[0m\u001b[0;34m\u001b[0m\u001b[0;34m\u001b[0m\u001b[0m\n\u001b[0m",
      "\u001b[0;32m<ipython-input-20-cbe584a123a4>\u001b[0m in \u001b[0;36mtransmit\u001b[0;34m(self, message)\u001b[0m\n\u001b[1;32m     34\u001b[0m         \u001b[0mprevious_flip\u001b[0m \u001b[0;34m=\u001b[0m \u001b[0;32mFalse\u001b[0m\u001b[0;34m\u001b[0m\u001b[0;34m\u001b[0m\u001b[0m\n\u001b[1;32m     35\u001b[0m         \u001b[0mflip\u001b[0m \u001b[0;34m=\u001b[0m \u001b[0;32mFalse\u001b[0m\u001b[0;34m\u001b[0m\u001b[0;34m\u001b[0m\u001b[0m\n\u001b[0;32m---> 36\u001b[0;31m         \u001b[0;32mfor\u001b[0m \u001b[0mi\u001b[0m \u001b[0;32min\u001b[0m \u001b[0mrange\u001b[0m\u001b[0;34m(\u001b[0m\u001b[0mInteger\u001b[0m\u001b[0;34m(\u001b[0m\u001b[0;36m0\u001b[0m\u001b[0;34m)\u001b[0m\u001b[0;34m,\u001b[0m\u001b[0mlen\u001b[0m\u001b[0;34m(\u001b[0m\u001b[0mmessage\u001b[0m\u001b[0;34m)\u001b[0m\u001b[0;34m)\u001b[0m\u001b[0;34m:\u001b[0m\u001b[0;34m\u001b[0m\u001b[0;34m\u001b[0m\u001b[0m\n\u001b[0m\u001b[1;32m     37\u001b[0m             \u001b[0;32mif\u001b[0m \u001b[0;32mnot\u001b[0m \u001b[0mprevious_flip\u001b[0m\u001b[0;34m:\u001b[0m\u001b[0;34m\u001b[0m\u001b[0;34m\u001b[0m\u001b[0m\n\u001b[1;32m     38\u001b[0m                 \u001b[0mprevious_flip\u001b[0m \u001b[0;34m=\u001b[0m \u001b[0mself\u001b[0m\u001b[0;34m.\u001b[0m\u001b[0mB\u001b[0m\u001b[0;34m.\u001b[0m\u001b[0mrandomTrial\u001b[0m\u001b[0;34m(\u001b[0m\u001b[0;34m)\u001b[0m\u001b[0;34m\u001b[0m\u001b[0;34m\u001b[0m\u001b[0m\n",
      "\u001b[0;31mTypeError\u001b[0m: object of type 'sage.matrix.matrix_integer_dense.Matrix_integer_dense' has no len()"
     ]
    }
   ],
   "source": [
    "B = BurstChannel(.2,.6)\n",
    "message = Matrix([0,1,1,1,1,0,0])\n",
    "B.transmit(message)"
   ]
  }
 ],
 "metadata": {
  "kernelspec": {
   "display_name": "SageMath 9.0",
   "language": "sage",
   "name": "sagemath"
  },
  "language_info": {
   "codemirror_mode": {
    "name": "ipython",
    "version": 3
   },
   "file_extension": ".py",
   "mimetype": "text/x-python",
   "name": "python",
   "nbconvert_exporter": "python",
   "pygments_lexer": "ipython3",
   "version": "3.8.10"
  }
 },
 "nbformat": 4,
 "nbformat_minor": 4
}
