{
 "cells": [
  {
   "cell_type": "markdown",
   "metadata": {},
   "source": [
    "# BCH Codes\n",
    "\n",
    "Here we will expound on the polynomial codes that we explored in the previous document.  BCH codes are very \n",
    "similar, although we are a little more careful with the choice of the generating polynomial.  Let $d=2r+1$.  Then if \n",
    "$$ g(x)=\\text{lcm}\\{m_1(x),m_2(x),\\dots,m_{2r}(x)\\} $$ \n",
    "where $m_i(x)$ is the minimal polynomial of $\\omega^i$ where $\\omega $ is the primitive $n^{th}$ root of unity \n",
    "over $\\mathbb{Z}_2$, then with this choice of $g$, we have that the cyclic code $\\left<g(x)\\right>$ in \n",
    "$$ \\frac{\\mathbb{Z}_2[x]}{\\left<x^n-1\\right>} $$ \n",
    "is called the BHC code of length $n$ and distance $d$.  If we recall the previous results from the Linear codes \n",
    "that were discussed earlier, we have that this code can detect $2r$ errors, and correct $r$ errors.  "
   ]
  },
  {
   "cell_type": "markdown",
   "metadata": {},
   "source": [
    "To create a distance 5 BCH code, we take our generating polynomial to be $1+x^4+x^6+x^7+x^8$, which is the product \n",
    "$$ (1+x^2+x^4)(1+x+x^2+x^3+x^4) $$\n",
    "This generator polynomial gives a cyclic code with distance 5.  This example is given below."
   ]
  },
  {
   "cell_type": "code",
   "execution_count": 31,
   "metadata": {},
   "outputs": [
    {
     "name": "stdout",
     "output_type": "stream",
     "text": [
      "[1 0 0 0 0 0 0]\n",
      "[0 1 0 0 0 0 0]\n",
      "[0 0 1 0 0 0 0]\n",
      "[0 0 0 1 0 0 0]\n",
      "[1 0 0 0 1 0 0]\n",
      "[0 1 0 0 0 1 0]\n",
      "[1 0 1 0 0 0 1]\n",
      "[1 1 0 1 0 0 0]\n",
      "[1 1 1 0 1 0 0]\n",
      "[0 1 1 1 0 1 0]\n",
      "[0 0 1 1 1 0 1]\n",
      "[0 0 0 1 1 1 0]\n",
      "[0 0 0 0 1 1 1]\n",
      "[0 0 0 0 0 1 1]\n",
      "[0 0 0 0 0 0 1]\n",
      "[0 0 0 0 0 0 0 1 1 0 1 0 0 0 1]\n",
      "[0 0 0 0 0 0 1 1 0 1 0 0 0 1 0]\n",
      "[0 0 0 0 0 1 1 0 1 0 0 0 1 0 0]\n",
      "[0 0 0 0 1 1 0 1 0 0 0 1 0 0 0]\n",
      "[0 0 0 1 1 0 1 0 0 0 1 0 0 0 0]\n",
      "[0 0 1 1 0 1 0 0 0 1 0 0 0 0 0]\n",
      "[0 1 1 0 1 0 0 0 1 0 0 0 0 0 0]\n",
      "[1 1 0 1 0 0 0 1 0 0 0 0 0 0 0]\n",
      "[0 0 0 0 0 0 0]\n",
      "[0 0 0 0 0 0 0]\n",
      "[0 0 0 0 0 0 0]\n",
      "[0 0 0 0 0 0 0]\n",
      "[0 0 0 0 0 0 0]\n",
      "[0 0 0 0 0 0 0]\n",
      "[0 0 0 0 0 0 0]\n",
      "[0 0 0 0 0 0 0]\n"
     ]
    }
   ],
   "source": [
    "def create_matrix(p,n,k,Z):\n",
    "    matrix = []\n",
    "    for i in range(0,k):\n",
    "        row = p*(x^i)\n",
    "        row = list(row)\n",
    "        while len(row)!=n:\n",
    "            row.append(0)\n",
    "        matrix.append(list(row))\n",
    "    matrix1 = []\n",
    "    h = (x^n+1)/p\n",
    "    for i in range(0,k+1):\n",
    "        row = h*(x^i)\n",
    "        row = Z(row)\n",
    "        row = list(row)\n",
    "        row.reverse()\n",
    "        while len(row)<n:\n",
    "            row.insert(0,0)\n",
    "        matrix1.append(row)\n",
    "    return Matrix(matrix).transpose(), Matrix(matrix1)\n",
    "\n",
    "Z.<x> = PolynomialRing(IntegerModRing(2))\n",
    "g = 1+x^4+x^6+x^7+x^8\n",
    "G,H = create_matrix(g,15,7,Z)\n",
    "print(G)\n",
    "print(H)\n",
    "print(H*G)"
   ]
  },
  {
   "cell_type": "code",
   "execution_count": 23,
   "metadata": {},
   "outputs": [
    {
     "data": {
      "text/plain": [
       "<class 'sage.rings.polynomial.polynomial_gf2x.Polynomial_GF2X'>"
      ]
     },
     "execution_count": 23,
     "metadata": {},
     "output_type": "execute_result"
    }
   ],
   "source": [
    "h = (x^15+1)/g\n",
    "h = Z(h)\n",
    "type(h)"
   ]
  }
 ],
 "metadata": {
  "kernelspec": {
   "display_name": "SageMath 9.0",
   "language": "sage",
   "name": "sagemath"
  },
  "language_info": {
   "codemirror_mode": {
    "name": "ipython",
    "version": 3
   },
   "file_extension": ".py",
   "mimetype": "text/x-python",
   "name": "python",
   "nbconvert_exporter": "python",
   "pygments_lexer": "ipython3",
   "version": "3.8.10"
  }
 },
 "nbformat": 4,
 "nbformat_minor": 4
}
